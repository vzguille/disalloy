{
 "cells": [
  {
   "cell_type": "code",
   "execution_count": 1,
   "id": "54ce29c9-2fc6-4a77-83cb-4b68588e5d78",
   "metadata": {
    "editable": true,
    "slideshow": {
     "slide_type": ""
    },
    "tags": []
   },
   "outputs": [],
   "source": [
    "from disalloy.enumerate import structures_pool"
   ]
  },
  {
   "cell_type": "code",
   "execution_count": 2,
   "id": "2c83cdd5-46af-4295-af9f-40a3116c3a01",
   "metadata": {},
   "outputs": [],
   "source": [
    "import pandas as pd\n",
    "import numpy as np\n"
   ]
  },
  {
   "cell_type": "code",
   "execution_count": 3,
   "id": "c601b786-3132-45fc-a1d2-d8707168914b",
   "metadata": {},
   "outputs": [
    {
     "name": "stdout",
     "output_type": "stream",
     "text": [
      "Atoms(symbols='Al', pbc=True, cell=[[1.5, 1.5, 0.0], [0.0, 1.5, 1.5], [1.5, 0.0, 1.5]])\n"
     ]
    }
   ],
   "source": [
    "sp = structures_pool(['Al','Co','Cr','Cu','Fe','Mn','Ni','V'])\n",
    "sp.create_prim('FCC', {'a0' : 3.0})"
   ]
  },
  {
   "cell_type": "code",
   "execution_count": 4,
   "id": "c57b0fa8-92e6-4447-8509-89576963eb08",
   "metadata": {},
   "outputs": [
    {
     "name": "stdout",
     "output_type": "stream",
     "text": [
      "20350 structures in 21.193430185317993s\n",
      "489588 structures in 73.62884330749512s\n"
     ]
    }
   ],
   "source": [
    "sp.generate_structures(5, 10)"
   ]
  },
  {
   "cell_type": "code",
   "execution_count": 5,
   "id": "1400aa54-37a5-4222-a4c1-533576b81abc",
   "metadata": {},
   "outputs": [],
   "source": [
    "\n",
    "sp.save(''.join(['Al','Co','Cr','Cu','Fe','Mn','Ni','V'])+'_5_10')"
   ]
  },
  {
   "cell_type": "code",
   "execution_count": null,
   "id": "da7c43d9-5a9d-4250-a66d-ec209b115526",
   "metadata": {},
   "outputs": [],
   "source": []
  }
 ],
 "metadata": {
  "kernelspec": {
   "display_name": "Python 3 (ipykernel)",
   "language": "python",
   "name": "python3"
  },
  "language_info": {
   "codemirror_mode": {
    "name": "ipython",
    "version": 3
   },
   "file_extension": ".py",
   "mimetype": "text/x-python",
   "name": "python",
   "nbconvert_exporter": "python",
   "pygments_lexer": "ipython3",
   "version": "3.9.19"
  }
 },
 "nbformat": 4,
 "nbformat_minor": 5
}
