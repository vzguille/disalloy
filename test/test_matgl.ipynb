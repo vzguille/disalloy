{
 "cells": [
  {
   "cell_type": "code",
   "execution_count": 1,
   "id": "53120579-57f2-4b3f-8e66-89c5524d7d16",
   "metadata": {},
   "outputs": [],
   "source": [
    "import os\n"
   ]
  },
  {
   "cell_type": "code",
   "execution_count": 2,
   "id": "6ffc4c6a-e07f-45bd-8408-d3e75999beeb",
   "metadata": {},
   "outputs": [],
   "source": [
    "import pandas as pd\n",
    "import time\n",
    "import pickle"
   ]
  },
  {
   "cell_type": "code",
   "execution_count": 3,
   "id": "3db5aaa9-ddb9-4c2f-bfcc-c60e2e27cbce",
   "metadata": {},
   "outputs": [
    {
     "name": "stderr",
     "output_type": "stream",
     "text": [
      "/usr/local/lib/python3.9/site-packages/tqdm/auto.py:21: TqdmWarning: IProgress not found. Please update jupyter and ipywidgets. See https://ipywidgets.readthedocs.io/en/stable/user_install.html\n",
      "  from .autonotebook import tqdm as notebook_tqdm\n"
     ]
    }
   ],
   "source": [
    "import matgl\n",
    "from matgl.ext.ase import PESCalculator, MolecularDynamics, Relaxer"
   ]
  },
  {
   "cell_type": "code",
   "execution_count": 4,
   "id": "cf17ed4a-56d1-4ef6-9983-9098ac2253fd",
   "metadata": {},
   "outputs": [],
   "source": [
    "from disalloy.cellfunc import jitter_ia, jitter_ic, compute_distortion\n",
    "from disalloy.grid_run import run_packet"
   ]
  },
  {
   "cell_type": "code",
   "execution_count": 5,
   "id": "a8d69a64-fe09-4495-a31a-151bc1c4627a",
   "metadata": {},
   "outputs": [
    {
     "name": "stderr",
     "output_type": "stream",
     "text": [
      "/usr/local/lib/python3.9/site-packages/matgl/apps/pes.py:69: UserWarning: To copy construct from a tensor, it is recommended to use sourceTensor.clone().detach() or sourceTensor.clone().detach().requires_grad_(True), rather than torch.tensor(sourceTensor).\n",
      "  self.element_refs = AtomRef(property_offset=torch.tensor(element_refs, dtype=matgl.float_th))\n",
      "/usr/local/lib/python3.9/site-packages/matgl/apps/pes.py:75: UserWarning: To copy construct from a tensor, it is recommended to use sourceTensor.clone().detach() or sourceTensor.clone().detach().requires_grad_(True), rather than torch.tensor(sourceTensor).\n",
      "  self.register_buffer(\"data_mean\", torch.tensor(data_mean, dtype=matgl.float_th))\n",
      "/usr/local/lib/python3.9/site-packages/matgl/apps/pes.py:76: UserWarning: To copy construct from a tensor, it is recommended to use sourceTensor.clone().detach() or sourceTensor.clone().detach().requires_grad_(True), rather than torch.tensor(sourceTensor).\n",
      "  self.register_buffer(\"data_std\", torch.tensor(data_std, dtype=matgl.float_th))\n"
     ]
    }
   ],
   "source": [
    "pot = matgl.load_model(\"M3GNet-MP-2021.2.8-PES\")"
   ]
  },
  {
   "cell_type": "code",
   "execution_count": 6,
   "id": "270ef6b6-0462-4f29-bba8-498c88d561da",
   "metadata": {},
   "outputs": [],
   "source": [
    "relaxer_2021_2_8_PES = Relaxer(pot)"
   ]
  },
  {
   "cell_type": "code",
   "execution_count": 7,
   "id": "857635c6-110f-4514-8c51-37d2d4d00987",
   "metadata": {},
   "outputs": [],
   "source": [
    "with open('AlCoCrCuFeMnNiV_5_10.pkl', 'rb') as f:\n",
    "    structure_DB = pickle.load(f)"
   ]
  },
  {
   "cell_type": "code",
   "execution_count": 8,
   "id": "79ffc3d9-357c-4295-be4d-1605aea3ac98",
   "metadata": {},
   "outputs": [],
   "source": [
    "def relaxer_direct_2021_2_8_PES(structure):\n",
    "    return relaxer_2021_2_8_PES.relax(structure)\n",
    "def relaxer_jitter_a_01_2021_2_8_PES(structure, ia = 0.01):\n",
    "    structure = jitter_ia(structure, ia)\n",
    "    return relaxer_2021_2_8_PES.relax(structure)#, fmax = 0.001)\n",
    "def relaxer_jitter_c_005_2021_2_8_PES(structure, ic = 0.01):\n",
    "    structure = jitter_ic(structure, ic)\n",
    "    return relaxer_2021_2_8_PES.relax(structure)#, fmax = 0.001)"
   ]
  },
  {
   "cell_type": "markdown",
   "id": "6d752eb3-b32d-4a68-a5e9-db7b711e89a5",
   "metadata": {},
   "source": [
    "## creating a dabase 'df_calc' and running the direct relaxation in M3GNet model"
   ]
  },
  {
   "cell_type": "code",
   "execution_count": 9,
   "id": "0e83e320-8128-4c4d-8a92-eeda2da2d635",
   "metadata": {},
   "outputs": [],
   "source": [
    "df = structure_DB.copy()\n",
    "if os.path.exists('df_calc.pkl'):\n",
    "    df = pd.read_pickle('df_calc.pkl')"
   ]
  },
  {
   "cell_type": "code",
   "execution_count": 10,
   "id": "914a96e5-ef43-4194-91e7-efd3f3112dd7",
   "metadata": {},
   "outputs": [],
   "source": [
    "relaxer_dic_2021_2_8_PES = {'calculator_label': 'relaxer_dic_2021_2_8_PES',\n",
    "                            'relaxer': relaxer_direct_2021_2_8_PES}"
   ]
  },
  {
   "cell_type": "code",
   "execution_count": null,
   "id": "78d9fdfc-e7d8-40da-baa3-5393b64da921",
   "metadata": {},
   "outputs": [],
   "source": [
    "print(df.attrs)"
   ]
  },
  {
   "cell_type": "code",
   "execution_count": 11,
   "id": "0a843930-4ba9-4fe2-b1b6-c80f1b8e2118",
   "metadata": {},
   "outputs": [
    {
     "name": "stdout",
     "output_type": "stream",
     "text": [
      "2024-09-03 12:51:10 - starting packet run: attempting 10 runs of size 1\n",
      "\n",
      "2024-09-03 12:52:03 - index of ran strctures:\n",
      " [0, 1, 2, 3, 4, 5, 6, 7]\n",
      "\n",
      "2024-09-03 12:52:03 - Succesfuly ran packet of 8 runs in 35.4459593296051s\n",
      "\n",
      "53.632290840148926s\n"
     ]
    }
   ],
   "source": [
    "ti = time.time()\n",
    "run_packet('df_calc', df, relaxer_dic_2021_2_8_PES, 10, 1)\n",
    "print('{}s'.format(time.time() - ti))"
   ]
  },
  {
   "cell_type": "code",
   "execution_count": 12,
   "id": "0277f48d-742f-42bf-a08e-267153a31bb8",
   "metadata": {
    "scrolled": true
   },
   "outputs": [
    {
     "name": "stdout",
     "output_type": "stream",
     "text": [
      "2024-09-03 12:52:38 - starting packet run: attempting 100 runs of size 2\n",
      "\n",
      "2024-09-03 12:59:45 - index of ran strctures:\n",
      " [8, 9, 10, 11, 12, 13, 14, 15, 16, 17, 18, 19, 20, 21, 22, 23, 24, 25, 26, 27, 28, 29, 30, 31, 32, 33, 34, 35, 36, 37, 38, 39, 40, 41, 42, 43, 44, 45, 46, 47, 48, 49, 50, 51, 52, 53, 54, 55, 56, 57, 58, 59, 60, 61, 62, 63]\n",
      "\n",
      "2024-09-03 12:59:45 - Succesfuly ran packet of 56 runs in 403.2092800140381s\n",
      "\n",
      "427.25523948669434s\n"
     ]
    }
   ],
   "source": [
    "ti = time.time()\n",
    "run_packet('df_calc', df, relaxer_dic_2021_2_8_PES, 100, 2)\n",
    "print('{}s'.format(time.time() - ti))"
   ]
  },
  {
   "cell_type": "code",
   "execution_count": null,
   "id": "7b6c5c7f-b9e9-45dc-9cb2-248bbe7154a2",
   "metadata": {},
   "outputs": [
    {
     "name": "stdout",
     "output_type": "stream",
     "text": [
      "2024-09-03 12:59:45 - starting packet run: attempting 100 runs of size 3\n",
      "\n"
     ]
    }
   ],
   "source": [
    "ti = time.time()\n",
    "run_packet('df_calc', df, relaxer_dic_2021_2_8_PES, 100, 3)\n",
    "print('{}s'.format(time.time() - ti))"
   ]
  },
  {
   "cell_type": "code",
   "execution_count": null,
   "id": "063884de-6e0e-4dd7-b7e2-69bfa86727db",
   "metadata": {},
   "outputs": [],
   "source": [
    "df[df[relaxer_dic_2021_2_8_PES['calculator_label']].notnull()]"
   ]
  },
  {
   "cell_type": "markdown",
   "id": "9a12cb24-c839-4525-aaf9-b951fac6f6b8",
   "metadata": {},
   "source": [
    "## now we run with another relaxer (using cell relaxer), but we calculate the same indeces previously calculated"
   ]
  },
  {
   "cell_type": "code",
   "execution_count": null,
   "id": "99bcf469-5eee-4afe-bdc1-138485617945",
   "metadata": {},
   "outputs": [],
   "source": [
    "relaxer_dic_jitter_c_005_2021_2_8_PES = {\n",
    "    'calculator_label': 'relaxer_dic_jitter_c_005_2021_2_8_PES',\n",
    "    'relaxer': relaxer_jitter_c_005_2021_2_8_PES\n",
    "}"
   ]
  },
  {
   "cell_type": "code",
   "execution_count": 11,
   "id": "8689e39c-76de-408d-ac6e-f58ada656b6a",
   "metadata": {},
   "outputs": [
    {
     "name": "stdout",
     "output_type": "stream",
     "text": [
      "2024-09-03 12:51:10 - starting packet run: attempting 10 runs of size 1\n",
      "\n",
      "2024-09-03 12:52:03 - index of ran strctures:\n",
      " [0, 1, 2, 3, 4, 5, 6, 7]\n",
      "\n",
      "2024-09-03 12:52:03 - Succesfuly ran packet of 8 runs in 35.4459593296051s\n",
      "\n",
      "53.632290840148926s\n"
     ]
    }
   ],
   "source": [
    "ti = time.time()\n",
    "run_packet('df_calc', df, relaxer_dic_2021_2_8_PES, 10, 1, \n",
    "           copy_calculated=relaxer_dic_2021_2_8_PES['calculator_label'])\n",
    "print('{}s'.format(time.time() - ti))"
   ]
  },
  {
   "cell_type": "code",
   "execution_count": 11,
   "id": "c92f2d06-43b0-4cfc-971c-779ff5db998c",
   "metadata": {},
   "outputs": [
    {
     "name": "stdout",
     "output_type": "stream",
     "text": [
      "2024-09-03 12:51:10 - starting packet run: attempting 10 runs of size 1\n",
      "\n",
      "2024-09-03 12:52:03 - index of ran strctures:\n",
      " [0, 1, 2, 3, 4, 5, 6, 7]\n",
      "\n",
      "2024-09-03 12:52:03 - Succesfuly ran packet of 8 runs in 35.4459593296051s\n",
      "\n",
      "53.632290840148926s\n"
     ]
    }
   ],
   "source": [
    "ti = time.time()\n",
    "run_packet('df_calc', df, relaxer_dic_2021_2_8_PES, 100, 2, \n",
    "           copy_calculated=relaxer_dic_2021_2_8_PES['calculator_label'])\n",
    "print('{}s'.format(time.time() - ti))"
   ]
  },
  {
   "cell_type": "code",
   "execution_count": 11,
   "id": "1d848443-7619-4e4f-b823-a69fa5ea280c",
   "metadata": {},
   "outputs": [
    {
     "name": "stdout",
     "output_type": "stream",
     "text": [
      "2024-09-03 12:51:10 - starting packet run: attempting 10 runs of size 1\n",
      "\n",
      "2024-09-03 12:52:03 - index of ran strctures:\n",
      " [0, 1, 2, 3, 4, 5, 6, 7]\n",
      "\n",
      "2024-09-03 12:52:03 - Succesfuly ran packet of 8 runs in 35.4459593296051s\n",
      "\n",
      "53.632290840148926s\n"
     ]
    }
   ],
   "source": [
    "ti = time.time()\n",
    "run_packet('df_calc', df, relaxer_dic_2021_2_8_PES, 100, 3, \n",
    "           copy_calculated=relaxer_dic_2021_2_8_PES['calculator_label'])\n",
    "print('{}s'.format(time.time() - ti))"
   ]
  },
  {
   "cell_type": "code",
   "execution_count": null,
   "id": "adf26642-89f1-4d4a-bb81-1cde4e98e19f",
   "metadata": {},
   "outputs": [],
   "source": []
  },
  {
   "cell_type": "code",
   "execution_count": null,
   "id": "843ba42d-0bcb-4946-b3bf-f033efc295aa",
   "metadata": {},
   "outputs": [],
   "source": []
  },
  {
   "cell_type": "code",
   "execution_count": 21,
   "id": "a510c6a9-fcea-4f25-b0ee-bf665f59dad9",
   "metadata": {},
   "outputs": [],
   "source": [
    "calculated_index = df[df[relaxer_dic_2021_2_8_PES['calculator_label']].notnull()].index\n"
   ]
  },
  {
   "cell_type": "code",
   "execution_count": 22,
   "id": "7556c1a1-0309-4cb4-86bd-6752dc78e83e",
   "metadata": {},
   "outputs": [
    {
     "name": "stdout",
     "output_type": "stream",
     "text": [
      "0.08171670991394009\n",
      "0.08166277357433269\n",
      "\n",
      "0.022529365287150514\n",
      "0.02322317991696847\n",
      "\n",
      "0.01929429646574994\n",
      "0.02078546657726485\n",
      "\n",
      "0.0067257354750165105\n",
      "0.008730287298227519\n",
      "\n",
      "0.04627730708397882\n",
      "0.040753538829881135\n",
      "\n"
     ]
    }
   ],
   "source": [
    "for i, j,k  in zip(df.loc[calculated_index, 'init_structure'], \n",
    "                df.loc[calculated_index, 'relaxer_dic_2021_2_8_PES'].array, \n",
    "             df.loc[calculated_index, 'relaxer_dic_jitter_c_005_2021_2_8_PES'].array):\n",
    "    print(compute_distortion(i, j[0]))\n",
    "    print(compute_distortion(i, k[0]))\n",
    "    print()"
   ]
  }
 ],
 "metadata": {
  "kernelspec": {
   "display_name": "Python 3 (ipykernel)",
   "language": "python",
   "name": "python3"
  },
  "language_info": {
   "codemirror_mode": {
    "name": "ipython",
    "version": 3
   },
   "file_extension": ".py",
   "mimetype": "text/x-python",
   "name": "python",
   "nbconvert_exporter": "python",
   "pygments_lexer": "ipython3",
   "version": "3.9.19"
  }
 },
 "nbformat": 4,
 "nbformat_minor": 5
}
