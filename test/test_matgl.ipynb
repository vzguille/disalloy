{
 "cells": [
  {
   "cell_type": "code",
   "execution_count": 1,
   "id": "53120579-57f2-4b3f-8e66-89c5524d7d16",
   "metadata": {},
   "outputs": [],
   "source": [
    "import pickle"
   ]
  },
  {
   "cell_type": "code",
   "execution_count": 2,
   "id": "3db5aaa9-ddb9-4c2f-bfcc-c60e2e27cbce",
   "metadata": {},
   "outputs": [],
   "source": [
    "import matgl"
   ]
  },
  {
   "cell_type": "code",
   "execution_count": 3,
   "id": "7303f693-cf4c-4a5c-b5ca-5d7e069e6ca5",
   "metadata": {},
   "outputs": [
    {
     "name": "stderr",
     "output_type": "stream",
     "text": [
      "/usr/local/lib/python3.9/site-packages/tqdm/auto.py:21: TqdmWarning: IProgress not found. Please update jupyter and ipywidgets. See https://ipywidgets.readthedocs.io/en/stable/user_install.html\n",
      "  from .autonotebook import tqdm as notebook_tqdm\n"
     ]
    }
   ],
   "source": [
    "from matgl.ext.ase import PESCalculator, MolecularDynamics, Relaxer"
   ]
  },
  {
   "cell_type": "code",
   "execution_count": 4,
   "id": "cf17ed4a-56d1-4ef6-9983-9098ac2253fd",
   "metadata": {},
   "outputs": [],
   "source": [
    "from disalloy.cellfunc import jitter_ia, jitter_ic, compute_distortion"
   ]
  },
  {
   "cell_type": "code",
   "execution_count": 5,
   "id": "e997b395-be7e-4a90-b8d1-c4982ed89bc4",
   "metadata": {},
   "outputs": [],
   "source": [
    "from disalloy.grid_run import run_packet"
   ]
  },
  {
   "cell_type": "code",
   "execution_count": 6,
   "id": "a8d69a64-fe09-4495-a31a-151bc1c4627a",
   "metadata": {},
   "outputs": [
    {
     "name": "stderr",
     "output_type": "stream",
     "text": [
      "/usr/local/lib/python3.9/site-packages/matgl/apps/pes.py:69: UserWarning: To copy construct from a tensor, it is recommended to use sourceTensor.clone().detach() or sourceTensor.clone().detach().requires_grad_(True), rather than torch.tensor(sourceTensor).\n",
      "  self.element_refs = AtomRef(property_offset=torch.tensor(element_refs, dtype=matgl.float_th))\n",
      "/usr/local/lib/python3.9/site-packages/matgl/apps/pes.py:75: UserWarning: To copy construct from a tensor, it is recommended to use sourceTensor.clone().detach() or sourceTensor.clone().detach().requires_grad_(True), rather than torch.tensor(sourceTensor).\n",
      "  self.register_buffer(\"data_mean\", torch.tensor(data_mean, dtype=matgl.float_th))\n",
      "/usr/local/lib/python3.9/site-packages/matgl/apps/pes.py:76: UserWarning: To copy construct from a tensor, it is recommended to use sourceTensor.clone().detach() or sourceTensor.clone().detach().requires_grad_(True), rather than torch.tensor(sourceTensor).\n",
      "  self.register_buffer(\"data_std\", torch.tensor(data_std, dtype=matgl.float_th))\n"
     ]
    }
   ],
   "source": [
    "pot = matgl.load_model(\"M3GNet-MP-2021.2.8-PES\")"
   ]
  },
  {
   "cell_type": "code",
   "execution_count": 7,
   "id": "270ef6b6-0462-4f29-bba8-498c88d561da",
   "metadata": {},
   "outputs": [],
   "source": [
    "relaxer_2021_2_8_PES = Relaxer(pot)"
   ]
  },
  {
   "cell_type": "code",
   "execution_count": 8,
   "id": "857635c6-110f-4514-8c51-37d2d4d00987",
   "metadata": {},
   "outputs": [],
   "source": [
    "with open('AlCoCrCuFeMnNiV_5_10.pkl', 'rb') as f:\n",
    "    structure_DB = pickle.load(f)"
   ]
  },
  {
   "cell_type": "code",
   "execution_count": 9,
   "id": "79ffc3d9-357c-4295-be4d-1605aea3ac98",
   "metadata": {},
   "outputs": [],
   "source": [
    "def relaxer_direct_2021_2_8_PES(structure):\n",
    "    return relaxer_2021_2_8_PES.relax(structure)\n",
    "def relaxer_jitter_a_01_2021_2_8_PES(structure, ia = 0.01):\n",
    "    structure = jitter_ia(structure, ia)\n",
    "    return relaxer_2021_2_8_PES.relax(structure)#, fmax = 0.001)\n",
    "def relaxer_jitter_c_005_2021_2_8_PES(structure, ic = 0.01):\n",
    "    structure = jitter_ic(structure, ic)\n",
    "    return relaxer_2021_2_8_PES.relax(structure)#, fmax = 0.001)"
   ]
  },
  {
   "cell_type": "code",
   "execution_count": 10,
   "id": "573ad8b1-43cf-4ee4-8112-dafc4ea19663",
   "metadata": {},
   "outputs": [
    {
     "name": "stdout",
     "output_type": "stream",
     "text": [
      "[[1.5 1.5 0. ]\n",
      " [0.  1.5 1.5]\n",
      " [1.5 0.  1.5]] \n",
      " [ 2.12132034  2.12132034  2.12132034 60.         60.         60.        ] \n",
      " [[0. 0. 0.]]\n",
      "jitter_ia\n",
      "Distorsion measure:\n",
      "0.0000\n",
      "[[0.79370053 0.79370053 0.        ]\n",
      " [0.         0.79370053 0.79370053]\n",
      " [0.79370053 0.         0.79370053]] \n",
      " [ 1.12246205  1.12246205  1.12246205 60.         60.         60.        ] \n",
      " [[ 0.00346794 -0.0041085  -0.00693521]]\n",
      "jitter_ic\n",
      "Distorsion measure:\n",
      "0.0060\n",
      "[[ 0.79606744  0.7946377   0.00438723]\n",
      " [-0.00219174  0.79509734  0.7948102 ]\n",
      " [ 0.7930717   0.00106721  0.79179825]] \n",
      " [ 1.1248074   1.12423656  1.12067316 60.07932485 59.71671814 59.93291725] \n",
      " [[0. 0. 0.]]\n"
     ]
    }
   ],
   "source": [
    "a = structure_DB.loc[0, 'init_structure']\n",
    "a_copy = a.copy()\n",
    "print(a_copy.cell.array,'\\n',a_copy.cell.cellpar(),'\\n',a_copy.positions)\n",
    "print('jitter_ia')\n",
    "jitter_ia(a_copy)\n",
    "compute_distortion(a, a_copy, quiet = False)\n",
    "print(a_copy.cell.array,'\\n',a_copy.cell.cellpar(),'\\n',a_copy.positions)\n",
    "a_copy = a.copy()\n",
    "print('jitter_ic')\n",
    "jitter_ic(a_copy)\n",
    "compute_distortion(a, a_copy, quiet = False)\n",
    "print(a_copy.cell.array,'\\n',a_copy.cell.cellpar(),'\\n',a_copy.positions)"
   ]
  },
  {
   "cell_type": "code",
   "execution_count": 12,
   "id": "7e7b0b19-0851-4e4c-b3c8-625470e492ac",
   "metadata": {
    "scrolled": true
   },
   "outputs": [
    {
     "name": "stdout",
     "output_type": "stream",
     "text": [
      "['Al']\n",
      "[ 1.12246205  1.12246205  1.12246205 60.         60.         60.        ] \n",
      " [[0. 0. 0.]]\n",
      "direct\n",
      "[ 1.08073187  1.08067308  1.08075266 60.00044123 59.99607641 60.00094662] \n",
      " [[0. 0. 0.]]\n",
      "Distorsion measure:\n",
      "0.0001\n",
      "jitter_ia\n",
      "[ 1.08073195  1.08067317  1.08075271 60.0004468  59.99607528 60.00094199] \n",
      " [[ 0.00182491  0.0054181  -0.00250893]]\n",
      "Distorsion measure:\n",
      "0.0001\n",
      "jitter_ic\n",
      "[ 1.04503834  1.04683437  1.04285455 60.05850126 60.10039062 59.81200315] \n",
      " [[0. 0. 0.]]\n",
      "Distorsion measure:\n",
      "0.0047\n"
     ]
    }
   ],
   "source": [
    "for i in range(8):\n",
    "    \n",
    "    a = structure_DB.loc[i,'init_structure'].copy()\n",
    "    master_copy = a.copy()\n",
    "    print(master_copy.get_chemical_symbols())\n",
    "    print(master_copy.cell.cellpar(),'\\n',a_copy.positions)\n",
    "\n",
    "    a_copy = a.copy()\n",
    "    print('direct')\n",
    "    relaxer_direct_2021_2_8_PES(a_copy)\n",
    "    print(a_copy.cell.cellpar(),'\\n',a_copy.positions)\n",
    "    compute_distortion(master_copy, a_copy, quiet = False)\n",
    "    \n",
    "    print('jitter_ia')\n",
    "    a_copy = a.copy()\n",
    "    relaxer_jitter_a_01_2021_2_8_PES(a_copy)\n",
    "    print(a_copy.cell.cellpar(),'\\n',a_copy.positions)\n",
    "    compute_distortion(master_copy, a_copy, quiet = False)\n",
    "    \n",
    "    print('jitter_ic')\n",
    "    a_copy = a.copy()\n",
    "    relaxer_jitter_c_005_2021_2_8_PES(a_copy)\n",
    "    print(a_copy.cell.cellpar(),'\\n',a_copy.positions)\n",
    "    compute_distortion(master_copy, a_copy, quiet = False)\n",
    "    break"
   ]
  },
  {
   "cell_type": "code",
   "execution_count": 13,
   "id": "0e83e320-8128-4c4d-8a92-eeda2da2d635",
   "metadata": {},
   "outputs": [],
   "source": [
    "df = structure_DB.copy()"
   ]
  },
  {
   "cell_type": "code",
   "execution_count": 14,
   "id": "914a96e5-ef43-4194-91e7-efd3f3112dd7",
   "metadata": {},
   "outputs": [],
   "source": [
    "relaxer_dic_2021_2_8_PES = {'calculator_label': 'relaxer_dic_2021_2_8_PES',\n",
    "                            'relaxer': relaxer_direct_2021_2_8_PES}"
   ]
  },
  {
   "cell_type": "code",
   "execution_count": 15,
   "id": "0a843930-4ba9-4fe2-b1b6-c80f1b8e2118",
   "metadata": {},
   "outputs": [
    {
     "name": "stdout",
     "output_type": "stream",
     "text": [
      "[14, 43, 16, 33, 10]\n"
     ]
    }
   ],
   "source": [
    "run_packet(df, relaxer_dic_2021_2_8_PES, 5, 2)"
   ]
  },
  {
   "cell_type": "code",
   "execution_count": 16,
   "id": "9b49f993-3a61-4e9c-81f4-1737692193bc",
   "metadata": {
    "scrolled": true
   },
   "outputs": [
    {
     "data": {
      "text/plain": [
       "5"
      ]
     },
     "execution_count": 16,
     "metadata": {},
     "output_type": "execute_result"
    }
   ],
   "source": [
    "len(df.attrs[relaxer_dic_2021_2_8_PES['calculator_label']]['calculated'])"
   ]
  },
  {
   "cell_type": "code",
   "execution_count": 17,
   "id": "063884de-6e0e-4dd7-b7e2-69bfa86727db",
   "metadata": {},
   "outputs": [
    {
     "data": {
      "text/html": [
       "<div>\n",
       "<style scoped>\n",
       "    .dataframe tbody tr th:only-of-type {\n",
       "        vertical-align: middle;\n",
       "    }\n",
       "\n",
       "    .dataframe tbody tr th {\n",
       "        vertical-align: top;\n",
       "    }\n",
       "\n",
       "    .dataframe thead th {\n",
       "        text-align: right;\n",
       "    }\n",
       "</style>\n",
       "<table border=\"1\" class=\"dataframe\">\n",
       "  <thead>\n",
       "    <tr style=\"text-align: right;\">\n",
       "      <th></th>\n",
       "      <th>init_structure</th>\n",
       "      <th>size</th>\n",
       "      <th>relaxer_dic_2021_2_8_PES</th>\n",
       "    </tr>\n",
       "  </thead>\n",
       "  <tbody>\n",
       "    <tr>\n",
       "      <th>10</th>\n",
       "      <td>(Atom('Al', [0.0, 0.0, 0.0], index=0), Atom('C...</td>\n",
       "      <td>2</td>\n",
       "      <td>((Atom('Al', [6.333481526433646e-07, 8.6804716...</td>\n",
       "    </tr>\n",
       "    <tr>\n",
       "      <th>14</th>\n",
       "      <td>(Atom('Al', [0.0, 0.0, 0.0], index=0), Atom('V...</td>\n",
       "      <td>2</td>\n",
       "      <td>((Atom('Al', [-1.7882955356262696e-06, -5.8058...</td>\n",
       "    </tr>\n",
       "    <tr>\n",
       "      <th>16</th>\n",
       "      <td>(Atom('Co', [0.0, 0.0, 0.0], index=0), Atom('C...</td>\n",
       "      <td>2</td>\n",
       "      <td>((Atom('Co', [-9.717820495221134e-07, -2.31031...</td>\n",
       "    </tr>\n",
       "    <tr>\n",
       "      <th>33</th>\n",
       "      <td>(Atom('Mn', [0.0, 0.0, 0.0], index=0), Atom('N...</td>\n",
       "      <td>2</td>\n",
       "      <td>((Atom('Mn', [-3.182622948395819e-06, -1.61884...</td>\n",
       "    </tr>\n",
       "    <tr>\n",
       "      <th>43</th>\n",
       "      <td>(Atom('Co', [0.0, 0.0, 0.0], index=0), Atom('C...</td>\n",
       "      <td>2</td>\n",
       "      <td>((Atom('Co', [3.20771218636209e-07, -1.4569891...</td>\n",
       "    </tr>\n",
       "  </tbody>\n",
       "</table>\n",
       "</div>"
      ],
      "text/plain": [
       "                                       init_structure  size  \\\n",
       "10  (Atom('Al', [0.0, 0.0, 0.0], index=0), Atom('C...     2   \n",
       "14  (Atom('Al', [0.0, 0.0, 0.0], index=0), Atom('V...     2   \n",
       "16  (Atom('Co', [0.0, 0.0, 0.0], index=0), Atom('C...     2   \n",
       "33  (Atom('Mn', [0.0, 0.0, 0.0], index=0), Atom('N...     2   \n",
       "43  (Atom('Co', [0.0, 0.0, 0.0], index=0), Atom('C...     2   \n",
       "\n",
       "                             relaxer_dic_2021_2_8_PES  \n",
       "10  ((Atom('Al', [6.333481526433646e-07, 8.6804716...  \n",
       "14  ((Atom('Al', [-1.7882955356262696e-06, -5.8058...  \n",
       "16  ((Atom('Co', [-9.717820495221134e-07, -2.31031...  \n",
       "33  ((Atom('Mn', [-3.182622948395819e-06, -1.61884...  \n",
       "43  ((Atom('Co', [3.20771218636209e-07, -1.4569891...  "
      ]
     },
     "execution_count": 17,
     "metadata": {},
     "output_type": "execute_result"
    }
   ],
   "source": [
    "df[df[relaxer_dic_2021_2_8_PES['calculator_label']].notnull()]"
   ]
  },
  {
   "cell_type": "code",
   "execution_count": 18,
   "id": "99bcf469-5eee-4afe-bdc1-138485617945",
   "metadata": {},
   "outputs": [],
   "source": [
    "## now we run with another relaxer\n",
    "relaxer_dic_jitter_c_005_2021_2_8_PES = {\n",
    "    'calculator_label': 'relaxer_dic_jitter_c_005_2021_2_8_PES',\n",
    "    'relaxer': relaxer_jitter_c_005_2021_2_8_PES\n",
    "}"
   ]
  },
  {
   "cell_type": "code",
   "execution_count": 19,
   "id": "f1bd6861-72d5-4095-bc1a-f3cbc1ffeea1",
   "metadata": {},
   "outputs": [
    {
     "name": "stdout",
     "output_type": "stream",
     "text": [
      "[33, 10, 43, 14, 16]\n"
     ]
    }
   ],
   "source": [
    "## and we run the same structures for comparison\n",
    "run_packet(df, relaxer_dic_jitter_c_005_2021_2_8_PES, 50, 2, copy_calculated= 'relaxer_dic_2021_2_8_PES')"
   ]
  },
  {
   "cell_type": "code",
   "execution_count": 20,
   "id": "331058d9-0c80-4f4d-ae9c-4561b4072913",
   "metadata": {},
   "outputs": [
    {
     "name": "stdout",
     "output_type": "stream",
     "text": [
      "no more structures to run of this size\n"
     ]
    }
   ],
   "source": [
    "run_packet(df, relaxer_dic_jitter_c_005_2021_2_8_PES, 50, 2, copy_calculated= 'relaxer_dic_2021_2_8_PES')"
   ]
  },
  {
   "cell_type": "code",
   "execution_count": 21,
   "id": "a510c6a9-fcea-4f25-b0ee-bf665f59dad9",
   "metadata": {},
   "outputs": [],
   "source": [
    "calculated_index = df[df[relaxer_dic_2021_2_8_PES['calculator_label']].notnull()].index\n"
   ]
  },
  {
   "cell_type": "code",
   "execution_count": 22,
   "id": "7556c1a1-0309-4cb4-86bd-6752dc78e83e",
   "metadata": {},
   "outputs": [
    {
     "name": "stdout",
     "output_type": "stream",
     "text": [
      "0.08171670991394009\n",
      "0.08166277357433269\n",
      "\n",
      "0.022529365287150514\n",
      "0.02322317991696847\n",
      "\n",
      "0.01929429646574994\n",
      "0.02078546657726485\n",
      "\n",
      "0.0067257354750165105\n",
      "0.008730287298227519\n",
      "\n",
      "0.04627730708397882\n",
      "0.040753538829881135\n",
      "\n"
     ]
    }
   ],
   "source": [
    "for i, j,k  in zip(df.loc[calculated_index, 'init_structure'], \n",
    "                df.loc[calculated_index, 'relaxer_dic_2021_2_8_PES'].array, \n",
    "             df.loc[calculated_index, 'relaxer_dic_jitter_c_005_2021_2_8_PES'].array):\n",
    "    print(compute_distortion(i, j[0]))\n",
    "    print(compute_distortion(i, k[0]))\n",
    "    print()"
   ]
  },
  {
   "cell_type": "code",
   "execution_count": null,
   "id": "4d38127c-146a-4a0a-8369-a68b56f897cc",
   "metadata": {},
   "outputs": [],
   "source": []
  },
  {
   "cell_type": "code",
   "execution_count": 114,
   "id": "4040b48f-95d8-459b-ad34-c7218c392a6a",
   "metadata": {},
   "outputs": [],
   "source": [
    "from ase.build import bulk\n",
    "from ase.calculators.espresso import Espresso, EspressoProfile\n",
    "from ase.optimize import LBFGS\n"
   ]
  },
  {
   "cell_type": "code",
   "execution_count": 113,
   "id": "e3cb99e6-4dfd-4176-9127-42f8e4b9b2d7",
   "metadata": {},
   "outputs": [],
   "source": [
    "\n",
    "rocksalt = bulk('NaCl', crystalstructure='rocksalt', a=6.0)\n",
    "\n",
    "# Pseudopotentials from SSSP Efficiency v1.3.0\n",
    "pseudopotentials = {'Na': 'na_pbe_v1.5.uspp.F.UPF', 'Cl': 'cl_pbe_v1.4.uspp.F.UPF'}\n",
    "\n",
    "# Optionally create profile to override paths in ASE configuration:\n",
    "profile = EspressoProfile(\n",
    "    command='/path/to/pw.x', pseudo_dir='/path/to/pseudopotentials'\n",
    ")\n",
    "\n",
    "calc = Espresso(profile=profile, pseudopotentials=pseudopotentials)\n",
    "\n",
    "rocksalt.calc = calc\n",
    "\n",
    "rocksalt.get_potential_energy()  # This will run a single point calculation\n",
    "\n",
    "opt = LBFGS(rocksalt)\n",
    "\n",
    "opt.run(fmax=0.005)  # This will run a geometry optimization using ASE's LBFGS algorithm\n",
    "\n",
    "# Print lattice constant...\n",
    "print((8 * rocksalt.get_volume() / len(rocksalt)) ** (1.0 / 3.0))"
   ]
  },
  {
   "cell_type": "code",
   "execution_count": null,
   "id": "65f9380c-7a71-492b-8b76-3f9c29a37fd3",
   "metadata": {},
   "outputs": [],
   "source": []
  }
 ],
 "metadata": {
  "kernelspec": {
   "display_name": "Python 3 (ipykernel)",
   "language": "python",
   "name": "python3"
  },
  "language_info": {
   "codemirror_mode": {
    "name": "ipython",
    "version": 3
   },
   "file_extension": ".py",
   "mimetype": "text/x-python",
   "name": "python",
   "nbconvert_exporter": "python",
   "pygments_lexer": "ipython3",
   "version": "3.9.19"
  }
 },
 "nbformat": 4,
 "nbformat_minor": 5
}
