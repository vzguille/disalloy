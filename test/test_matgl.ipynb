{
 "cells": [
  {
   "cell_type": "code",
   "execution_count": 1,
   "id": "53120579-57f2-4b3f-8e66-89c5524d7d16",
   "metadata": {},
   "outputs": [],
   "source": [
    "import pickle"
   ]
  },
  {
   "cell_type": "code",
   "execution_count": 2,
   "id": "c43382ad-09c2-4212-9d99-1e9513e6cc24",
   "metadata": {},
   "outputs": [],
   "source": [
    "import sys"
   ]
  },
  {
   "cell_type": "code",
   "execution_count": 3,
   "id": "3db5aaa9-ddb9-4c2f-bfcc-c60e2e27cbce",
   "metadata": {},
   "outputs": [],
   "source": [
    "import matgl"
   ]
  },
  {
   "cell_type": "code",
   "execution_count": 4,
   "id": "7303f693-cf4c-4a5c-b5ca-5d7e069e6ca5",
   "metadata": {},
   "outputs": [
    {
     "name": "stdout",
     "output_type": "stream",
     "text": [
      "Setting the default backend to \"pytorch\". You can change it in the ~/.dgl/config.json file or export the DGLBACKEND environment variable.  Valid options are: pytorch, mxnet, tensorflow (all lowercase)\n"
     ]
    },
    {
     "name": "stderr",
     "output_type": "stream",
     "text": [
      "DGL backend not selected or invalid.  Assuming PyTorch for now.\n",
      "/usr/local/lib/python3.9/site-packages/tqdm/auto.py:21: TqdmWarning: IProgress not found. Please update jupyter and ipywidgets. See https://ipywidgets.readthedocs.io/en/stable/user_install.html\n",
      "  from .autonotebook import tqdm as notebook_tqdm\n"
     ]
    }
   ],
   "source": [
    "from matgl.ext.ase import PESCalculator, MolecularDynamics, Relaxer"
   ]
  },
  {
   "cell_type": "code",
   "execution_count": 7,
   "id": "857635c6-110f-4514-8c51-37d2d4d00987",
   "metadata": {},
   "outputs": [],
   "source": [
    "with open('AlCoCrCuFeMnNiV_5_10.pkl', 'rb') as f:\n",
    "    structure_DB = pickle.load(f)\n",
    "    "
   ]
  },
  {
   "cell_type": "code",
   "execution_count": 8,
   "id": "a8d69a64-fe09-4495-a31a-151bc1c4627a",
   "metadata": {},
   "outputs": [
    {
     "name": "stderr",
     "output_type": "stream",
     "text": [
      "/usr/local/lib/python3.9/site-packages/matgl/apps/pes.py:69: UserWarning: To copy construct from a tensor, it is recommended to use sourceTensor.clone().detach() or sourceTensor.clone().detach().requires_grad_(True), rather than torch.tensor(sourceTensor).\n",
      "  self.element_refs = AtomRef(property_offset=torch.tensor(element_refs, dtype=matgl.float_th))\n",
      "/usr/local/lib/python3.9/site-packages/matgl/apps/pes.py:75: UserWarning: To copy construct from a tensor, it is recommended to use sourceTensor.clone().detach() or sourceTensor.clone().detach().requires_grad_(True), rather than torch.tensor(sourceTensor).\n",
      "  self.register_buffer(\"data_mean\", torch.tensor(data_mean, dtype=matgl.float_th))\n",
      "/usr/local/lib/python3.9/site-packages/matgl/apps/pes.py:76: UserWarning: To copy construct from a tensor, it is recommended to use sourceTensor.clone().detach() or sourceTensor.clone().detach().requires_grad_(True), rather than torch.tensor(sourceTensor).\n",
      "  self.register_buffer(\"data_std\", torch.tensor(data_std, dtype=matgl.float_th))\n"
     ]
    }
   ],
   "source": [
    "pot = matgl.load_model(\"M3GNet-MP-2021.2.8-PES\")"
   ]
  },
  {
   "cell_type": "code",
   "execution_count": 13,
   "id": "270ef6b6-0462-4f29-bba8-498c88d561da",
   "metadata": {},
   "outputs": [],
   "source": [
    "relaxer = Relaxer(pot)"
   ]
  },
  {
   "cell_type": "code",
   "execution_count": 9,
   "id": "bf93f1ea-dba1-4792-9f55-e3cb9420a745",
   "metadata": {},
   "outputs": [
    {
     "data": {
      "text/html": [
       "<div>\n",
       "<style scoped>\n",
       "    .dataframe tbody tr th:only-of-type {\n",
       "        vertical-align: middle;\n",
       "    }\n",
       "\n",
       "    .dataframe tbody tr th {\n",
       "        vertical-align: top;\n",
       "    }\n",
       "\n",
       "    .dataframe thead th {\n",
       "        text-align: right;\n",
       "    }\n",
       "</style>\n",
       "<table border=\"1\" class=\"dataframe\">\n",
       "  <thead>\n",
       "    <tr style=\"text-align: right;\">\n",
       "      <th></th>\n",
       "      <th>init_structure</th>\n",
       "      <th>size</th>\n",
       "    </tr>\n",
       "  </thead>\n",
       "  <tbody>\n",
       "    <tr>\n",
       "      <th>0</th>\n",
       "      <td>(Atom('Al', [0.0, 0.0, 0.0], index=0))</td>\n",
       "      <td>1</td>\n",
       "    </tr>\n",
       "    <tr>\n",
       "      <th>1</th>\n",
       "      <td>(Atom('Co', [0.0, 0.0, 0.0], index=0))</td>\n",
       "      <td>1</td>\n",
       "    </tr>\n",
       "    <tr>\n",
       "      <th>2</th>\n",
       "      <td>(Atom('Cr', [0.0, 0.0, 0.0], index=0))</td>\n",
       "      <td>1</td>\n",
       "    </tr>\n",
       "    <tr>\n",
       "      <th>3</th>\n",
       "      <td>(Atom('Cu', [0.0, 0.0, 0.0], index=0))</td>\n",
       "      <td>1</td>\n",
       "    </tr>\n",
       "    <tr>\n",
       "      <th>4</th>\n",
       "      <td>(Atom('Fe', [0.0, 0.0, 0.0], index=0))</td>\n",
       "      <td>1</td>\n",
       "    </tr>\n",
       "    <tr>\n",
       "      <th>...</th>\n",
       "      <td>...</td>\n",
       "      <td>...</td>\n",
       "    </tr>\n",
       "    <tr>\n",
       "      <th>509933</th>\n",
       "      <td>(Atom('Mn', [0.0, 0.0, 0.0], index=0), Atom('C...</td>\n",
       "      <td>10</td>\n",
       "    </tr>\n",
       "    <tr>\n",
       "      <th>509934</th>\n",
       "      <td>(Atom('Mn', [0.0, 0.0, 0.0], index=0), Atom('C...</td>\n",
       "      <td>10</td>\n",
       "    </tr>\n",
       "    <tr>\n",
       "      <th>509935</th>\n",
       "      <td>(Atom('Mn', [0.0, 0.0, 0.0], index=0), Atom('C...</td>\n",
       "      <td>10</td>\n",
       "    </tr>\n",
       "    <tr>\n",
       "      <th>509936</th>\n",
       "      <td>(Atom('Mn', [0.0, 0.0, 0.0], index=0), Atom('C...</td>\n",
       "      <td>10</td>\n",
       "    </tr>\n",
       "    <tr>\n",
       "      <th>509937</th>\n",
       "      <td>(Atom('Mn', [0.0, 0.0, 0.0], index=0), Atom('C...</td>\n",
       "      <td>10</td>\n",
       "    </tr>\n",
       "  </tbody>\n",
       "</table>\n",
       "<p>509938 rows × 2 columns</p>\n",
       "</div>"
      ],
      "text/plain": [
       "                                           init_structure  size\n",
       "0                  (Atom('Al', [0.0, 0.0, 0.0], index=0))     1\n",
       "1                  (Atom('Co', [0.0, 0.0, 0.0], index=0))     1\n",
       "2                  (Atom('Cr', [0.0, 0.0, 0.0], index=0))     1\n",
       "3                  (Atom('Cu', [0.0, 0.0, 0.0], index=0))     1\n",
       "4                  (Atom('Fe', [0.0, 0.0, 0.0], index=0))     1\n",
       "...                                                   ...   ...\n",
       "509933  (Atom('Mn', [0.0, 0.0, 0.0], index=0), Atom('C...    10\n",
       "509934  (Atom('Mn', [0.0, 0.0, 0.0], index=0), Atom('C...    10\n",
       "509935  (Atom('Mn', [0.0, 0.0, 0.0], index=0), Atom('C...    10\n",
       "509936  (Atom('Mn', [0.0, 0.0, 0.0], index=0), Atom('C...    10\n",
       "509937  (Atom('Mn', [0.0, 0.0, 0.0], index=0), Atom('C...    10\n",
       "\n",
       "[509938 rows x 2 columns]"
      ]
     },
     "execution_count": 9,
     "metadata": {},
     "output_type": "execute_result"
    }
   ],
   "source": [
    "structure_DB"
   ]
  },
  {
   "cell_type": "code",
   "execution_count": 10,
   "id": "8cb80686-acd6-4620-b738-bf343f13c5a1",
   "metadata": {},
   "outputs": [
    {
     "data": {
      "text/plain": [
       "32636176"
      ]
     },
     "execution_count": 10,
     "metadata": {},
     "output_type": "execute_result"
    }
   ],
   "source": [
    "sys.getsizeof(structure_DB)"
   ]
  },
  {
   "cell_type": "code",
   "execution_count": 12,
   "id": "02d3b36e-1a6b-4122-97e3-acafbe8438b4",
   "metadata": {},
   "outputs": [],
   "source": [
    "a = structure_DB.loc[0,'init_structure'].copy()"
   ]
  },
  {
   "cell_type": "code",
   "execution_count": 14,
   "id": "c58316a7-5b70-4411-a782-384f5c2e0578",
   "metadata": {},
   "outputs": [
    {
     "data": {
      "text/plain": [
       "{'final_structure': Structure Summary\n",
       " Lattice\n",
       "     abc : 2.8809401497278695 2.8809367972984243 2.880938434724974\n",
       "  angles : 60.00002939157722 60.00002692132451 59.99994557299852\n",
       "  volume : 16.907794189993407\n",
       "       A : 2.0371313531185136 2.037133279011304 -4.723380494606584e-07\n",
       "       B : 1.267526692030542e-06 2.0371315391501987 2.0371283519273007\n",
       "       C : 2.0371317340363584 -8.532583613103346e-07 2.0371304727132413\n",
       "     pbc : True True True\n",
       " PeriodicSite: Al (0.0, 0.0, 0.0) [0.0, 0.0, 0.0],\n",
       " 'trajectory': <matgl.ext.ase.TrajectoryObserver at 0xffff20d3c8e0>}"
      ]
     },
     "execution_count": 14,
     "metadata": {},
     "output_type": "execute_result"
    }
   ],
   "source": [
    "relaxer.relax(a)"
   ]
  },
  {
   "cell_type": "code",
   "execution_count": null,
   "id": "81abcb85-b39a-4a83-bebe-b8727105e77a",
   "metadata": {},
   "outputs": [],
   "source": [
    "def run_packet(df, calculator_label, calculator, size_of_packet, 3):\n",
    "    \n",
    "    "
   ]
  }
 ],
 "metadata": {
  "kernelspec": {
   "display_name": "Python 3 (ipykernel)",
   "language": "python",
   "name": "python3"
  },
  "language_info": {
   "codemirror_mode": {
    "name": "ipython",
    "version": 3
   },
   "file_extension": ".py",
   "mimetype": "text/x-python",
   "name": "python",
   "nbconvert_exporter": "python",
   "pygments_lexer": "ipython3",
   "version": "3.9.19"
  }
 },
 "nbformat": 4,
 "nbformat_minor": 5
}
