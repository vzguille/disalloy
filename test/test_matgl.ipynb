{
 "cells": [
  {
   "cell_type": "code",
   "execution_count": 1,
   "id": "53120579-57f2-4b3f-8e66-89c5524d7d16",
   "metadata": {},
   "outputs": [],
   "source": [
    "import os"
   ]
  },
  {
   "cell_type": "code",
   "execution_count": 2,
   "id": "6ffc4c6a-e07f-45bd-8408-d3e75999beeb",
   "metadata": {},
   "outputs": [],
   "source": [
    "import pandas as pd\n",
    "import time\n",
    "import pickle"
   ]
  },
  {
   "cell_type": "code",
   "execution_count": 3,
   "id": "3db5aaa9-ddb9-4c2f-bfcc-c60e2e27cbce",
   "metadata": {},
   "outputs": [
    {
     "name": "stderr",
     "output_type": "stream",
     "text": [
      "/usr/local/lib/python3.9/site-packages/tqdm/auto.py:21: TqdmWarning: IProgress not found. Please update jupyter and ipywidgets. See https://ipywidgets.readthedocs.io/en/stable/user_install.html\n",
      "  from .autonotebook import tqdm as notebook_tqdm\n"
     ]
    }
   ],
   "source": [
    "import matgl\n",
    "from matgl.ext.ase import PESCalculator, MolecularDynamics, Relaxer"
   ]
  },
  {
   "cell_type": "code",
   "execution_count": 4,
   "id": "cf17ed4a-56d1-4ef6-9983-9098ac2253fd",
   "metadata": {},
   "outputs": [],
   "source": [
    "from disalloy.cellfunc import jitter_ia, jitter_ic, compute_distortion\n",
    "from disalloy.grid_run import run_packet"
   ]
  },
  {
   "cell_type": "code",
   "execution_count": 5,
   "id": "a8d69a64-fe09-4495-a31a-151bc1c4627a",
   "metadata": {},
   "outputs": [
    {
     "name": "stderr",
     "output_type": "stream",
     "text": [
      "/usr/local/lib/python3.9/site-packages/matgl/apps/pes.py:69: UserWarning: To copy construct from a tensor, it is recommended to use sourceTensor.clone().detach() or sourceTensor.clone().detach().requires_grad_(True), rather than torch.tensor(sourceTensor).\n",
      "  self.element_refs = AtomRef(property_offset=torch.tensor(element_refs, dtype=matgl.float_th))\n",
      "/usr/local/lib/python3.9/site-packages/matgl/apps/pes.py:75: UserWarning: To copy construct from a tensor, it is recommended to use sourceTensor.clone().detach() or sourceTensor.clone().detach().requires_grad_(True), rather than torch.tensor(sourceTensor).\n",
      "  self.register_buffer(\"data_mean\", torch.tensor(data_mean, dtype=matgl.float_th))\n",
      "/usr/local/lib/python3.9/site-packages/matgl/apps/pes.py:76: UserWarning: To copy construct from a tensor, it is recommended to use sourceTensor.clone().detach() or sourceTensor.clone().detach().requires_grad_(True), rather than torch.tensor(sourceTensor).\n",
      "  self.register_buffer(\"data_std\", torch.tensor(data_std, dtype=matgl.float_th))\n"
     ]
    }
   ],
   "source": [
    "pot = matgl.load_model(\"M3GNet-MP-2021.2.8-PES\")"
   ]
  },
  {
   "cell_type": "code",
   "execution_count": 6,
   "id": "270ef6b6-0462-4f29-bba8-498c88d561da",
   "metadata": {},
   "outputs": [],
   "source": [
    "relaxer_2021_2_8_PES = Relaxer(pot)"
   ]
  },
  {
   "cell_type": "code",
   "execution_count": 7,
   "id": "857635c6-110f-4514-8c51-37d2d4d00987",
   "metadata": {},
   "outputs": [],
   "source": [
    "with open('AlCoCrCuFeMnNiV_5_10.pkl', 'rb') as f:\n",
    "    structure_DB = pickle.load(f)"
   ]
  },
  {
   "cell_type": "code",
   "execution_count": 8,
   "id": "79ffc3d9-357c-4295-be4d-1605aea3ac98",
   "metadata": {},
   "outputs": [],
   "source": [
    "\n",
    "# def run_relaxer(structure, relaxer):\n",
    "#     b = relaxer(structure.copy())\n",
    "#     atoms_clean = b['trajectory'].atoms.copy()\n",
    "#     atoms_clean.calculator = None\n",
    "#     return atoms_clean, b['trajectory'].energies[-1]\n",
    "#     # return b['trajectory'].atoms.cell.array,\n",
    "#     # b['trajectory'].atoms.get_positions(), \n",
    "#     # b['trajectory'].energies[-1]\n",
    "\n",
    "def relaxer_direct_2021_2_8_PES(row):\n",
    "    structure = row['init_structure'].copy()\n",
    "    b = relaxer_2021_2_8_PES.relax(structure)\n",
    "    atoms_clean = b['trajectory'].atoms.copy()\n",
    "    atoms_clean.calculator = None\n",
    "    return atoms_clean, b['trajectory'].energies[-1]\n",
    "def relaxer_jitter_a_01_2021_2_8_PES(row, ia = 0.01):\n",
    "    structure = row['init_structure'].copy()\n",
    "    structure = jitter_ia(structure, ia)\n",
    "    b = relaxer_2021_2_8_PES.relax(structure)\n",
    "    atoms_clean = b['trajectory'].atoms.copy()\n",
    "    atoms_clean.calculator = None\n",
    "    return atoms_clean, b['trajectory'].energies[-1]\n",
    "def relaxer_jitter_c_005_2021_2_8_PES(row, ic = 0.01):\n",
    "    structure = row['init_structure'].copy()\n",
    "    structure = jitter_ic(structure, ic)\n",
    "    b = relaxer_2021_2_8_PES.relax(structure)\n",
    "    atoms_clean = b['trajectory'].atoms.copy()\n",
    "    atoms_clean.calculator = None\n",
    "    return atoms_clean, b['trajectory'].energies[-1]"
   ]
  },
  {
   "cell_type": "markdown",
   "id": "6d752eb3-b32d-4a68-a5e9-db7b711e89a5",
   "metadata": {},
   "source": [
    "## creating a dabase 'df_calc' and running the direct relaxation in M3GNet model"
   ]
  },
  {
   "cell_type": "code",
   "execution_count": null,
   "id": "7bcc68fe-65b3-4552-9cd1-fe9cde888c15",
   "metadata": {},
   "outputs": [],
   "source": []
  },
  {
   "cell_type": "code",
   "execution_count": 9,
   "id": "a7b1fab9-c41e-4ba4-ba31-949f91fb68be",
   "metadata": {},
   "outputs": [],
   "source": [
    "from disalloy.grid_run import run_packet"
   ]
  },
  {
   "cell_type": "code",
   "execution_count": 10,
   "id": "0e83e320-8128-4c4d-8a92-eeda2da2d635",
   "metadata": {},
   "outputs": [],
   "source": [
    "df = structure_DB.copy()\n",
    "# if os.path.exists('df_calc.pkl'):\n",
    "#     df = pd.read_pickle('df_calc.pkl')"
   ]
  },
  {
   "cell_type": "code",
   "execution_count": 11,
   "id": "914a96e5-ef43-4194-91e7-efd3f3112dd7",
   "metadata": {},
   "outputs": [],
   "source": [
    "relaxer_dic_2021_2_8_PES = {'calculator_label': 'relaxer_dic_2021_2_8_PES',\n",
    "                            'relaxer': relaxer_direct_2021_2_8_PES}"
   ]
  },
  {
   "cell_type": "code",
   "execution_count": 12,
   "id": "78d9fdfc-e7d8-40da-baa3-5393b64da921",
   "metadata": {},
   "outputs": [
    {
     "name": "stdout",
     "output_type": "stream",
     "text": [
      "{'number_of_structures': {1: 8, 2: 56, 3: 336, 4: 4046, 5: 15904, 6: 17080, 7: 23968, 8: 128540, 9: 140000, 10: 180000}, 'is_exhaustive': {1: True, 2: True, 3: True, 4: True, 5: True, 6: False, 7: False, 8: False, 9: False, 10: False}}\n"
     ]
    }
   ],
   "source": [
    "print(df.attrs)"
   ]
  },
  {
   "cell_type": "code",
   "execution_count": 13,
   "id": "0a843930-4ba9-4fe2-b1b6-c80f1b8e2118",
   "metadata": {},
   "outputs": [
    {
     "name": "stdout",
     "output_type": "stream",
     "text": [
      "2024-09-04 01:52:39 - starting packet run: attempting 10 runs of size 1\n",
      "\n",
      "2024-09-04 01:53:52 - index of ran strctures:\n",
      " [0, 1, 2, 3, 4, 5, 6, 7]\n",
      "\n",
      "2024-09-04 01:53:52 - Succesfuly ran packet of 8 runs in 33.562543869018555s\n",
      "\n",
      "73.45378255844116s\n"
     ]
    }
   ],
   "source": [
    "ti = time.time()\n",
    "run_packet('df_calc', df, relaxer_dic_2021_2_8_PES, 10, 1)\n",
    "print('{}s'.format(time.time() - ti))"
   ]
  },
  {
   "cell_type": "code",
   "execution_count": 14,
   "id": "0277f48d-742f-42bf-a08e-267153a31bb8",
   "metadata": {
    "scrolled": true
   },
   "outputs": [
    {
     "name": "stdout",
     "output_type": "stream",
     "text": [
      "2024-09-04 01:53:52 - starting packet run: attempting 20 runs of size 2\n",
      "\n",
      "2024-09-04 01:57:15 - index of ran strctures:\n",
      " [62, 57, 10, 27, 43, 8, 55, 54, 49, 56, 61, 58, 42, 51, 15, 29, 39, 46, 32, 9]\n",
      "\n",
      "2024-09-04 01:57:15 - Succesfuly ran packet of 20 runs in 169.18237948417664s\n",
      "\n",
      "203.40549325942993s\n"
     ]
    }
   ],
   "source": [
    "ti = time.time()\n",
    "run_packet('df_calc', df, relaxer_dic_2021_2_8_PES, 20, 2)\n",
    "print('{}s'.format(time.time() - ti))"
   ]
  },
  {
   "cell_type": "code",
   "execution_count": 15,
   "id": "7b6c5c7f-b9e9-45dc-9cb2-248bbe7154a2",
   "metadata": {},
   "outputs": [
    {
     "name": "stdout",
     "output_type": "stream",
     "text": [
      "2024-09-04 01:57:15 - starting packet run: attempting 10 runs of size 3\n",
      "\n",
      "2024-09-04 01:59:02 - index of ran strctures:\n",
      " [350, 398, 185, 286, 276, 282, 284, 95, 315, 65]\n",
      "\n",
      "2024-09-04 01:59:02 - Succesfuly ran packet of 10 runs in 82.15681147575378s\n",
      "\n",
      "107.04184341430664s\n"
     ]
    }
   ],
   "source": [
    "ti = time.time()\n",
    "run_packet('df_calc', df, relaxer_dic_2021_2_8_PES, 10, 3)\n",
    "print('{}s'.format(time.time() - ti))"
   ]
  },
  {
   "cell_type": "markdown",
   "id": "9a12cb24-c839-4525-aaf9-b951fac6f6b8",
   "metadata": {},
   "source": [
    "## now we run with another relaxer (using cell relaxer), but we calculate the same indeces previously calculated"
   ]
  },
  {
   "cell_type": "code",
   "execution_count": 17,
   "id": "99bcf469-5eee-4afe-bdc1-138485617945",
   "metadata": {},
   "outputs": [],
   "source": [
    "relaxer_dic_jitter_c_005_2021_2_8_PES = {\n",
    "    'calculator_label': 'relaxer_dic_jitter_c_005_2021_2_8_PES',\n",
    "    'relaxer': relaxer_jitter_c_005_2021_2_8_PES\n",
    "}"
   ]
  },
  {
   "cell_type": "code",
   "execution_count": 18,
   "id": "8689e39c-76de-408d-ac6e-f58ada656b6a",
   "metadata": {},
   "outputs": [
    {
     "name": "stdout",
     "output_type": "stream",
     "text": [
      "2024-09-04 01:59:03 - starting packet run: attempting 10 runs of size 1\n",
      "\n",
      "2024-09-04 02:00:20 - index of ran strctures:\n",
      " [0, 1, 2, 3, 4, 5, 6, 7]\n",
      "\n",
      "2024-09-04 02:00:20 - Succesfuly ran packet of 8 runs in 45.17092323303223s\n",
      "\n",
      "76.77451825141907s\n"
     ]
    }
   ],
   "source": [
    "ti = time.time()\n",
    "run_packet('df_calc', df, relaxer_dic_jitter_c_005_2021_2_8_PES, 10, 1, \n",
    "           copy_calculated=relaxer_dic_2021_2_8_PES['calculator_label'])\n",
    "print('{}s'.format(time.time() - ti))"
   ]
  },
  {
   "cell_type": "code",
   "execution_count": 19,
   "id": "c92f2d06-43b0-4cfc-971c-779ff5db998c",
   "metadata": {},
   "outputs": [
    {
     "name": "stdout",
     "output_type": "stream",
     "text": [
      "2024-09-04 02:00:20 - starting packet run: attempting 20 runs of size 2\n",
      "\n",
      "2024-09-04 02:03:48 - index of ran strctures:\n",
      " [8, 9, 10, 15, 27, 29, 32, 39, 42, 43, 46, 49, 51, 54, 55, 56, 57, 58, 61, 62]\n",
      "\n",
      "2024-09-04 02:03:48 - Succesfuly ran packet of 20 runs in 177.89048886299133s\n",
      "\n",
      "207.35061311721802s\n"
     ]
    }
   ],
   "source": [
    "ti = time.time()\n",
    "run_packet('df_calc', df, relaxer_dic_jitter_c_005_2021_2_8_PES, 20, 2, \n",
    "           copy_calculated=relaxer_dic_2021_2_8_PES['calculator_label'])\n",
    "print('{}s'.format(time.time() - ti))"
   ]
  },
  {
   "cell_type": "code",
   "execution_count": 20,
   "id": "1d848443-7619-4e4f-b823-a69fa5ea280c",
   "metadata": {},
   "outputs": [
    {
     "name": "stdout",
     "output_type": "stream",
     "text": [
      "2024-09-04 02:03:48 - starting packet run: attempting 10 runs of size 3\n",
      "\n",
      "2024-09-04 02:06:18 - index of ran strctures:\n",
      " [65, 350, 398, 276, 185, 282, 315, 284, 286, 95]\n",
      "\n",
      "2024-09-04 02:06:18 - Succesfuly ran packet of 10 runs in 86.7529239654541s\n",
      "\n",
      "150.13846492767334s\n"
     ]
    }
   ],
   "source": [
    "ti = time.time()\n",
    "run_packet('df_calc', df, relaxer_dic_jitter_c_005_2021_2_8_PES, 10, 3, \n",
    "           copy_calculated=relaxer_dic_2021_2_8_PES['calculator_label'])\n",
    "print('{}s'.format(time.time() - ti))"
   ]
  },
  {
   "cell_type": "code",
   "execution_count": null,
   "id": "096029ff-216b-489d-adb3-f4cb11e60e41",
   "metadata": {},
   "outputs": [],
   "source": []
  },
  {
   "cell_type": "code",
   "execution_count": null,
   "id": "3a76cc6b-56be-4f29-a814-3da6384faa92",
   "metadata": {},
   "outputs": [],
   "source": []
  },
  {
   "cell_type": "code",
   "execution_count": null,
   "id": "843ba42d-0bcb-4946-b3bf-f033efc295aa",
   "metadata": {},
   "outputs": [],
   "source": []
  },
  {
   "cell_type": "code",
   "execution_count": 21,
   "id": "a510c6a9-fcea-4f25-b0ee-bf665f59dad9",
   "metadata": {},
   "outputs": [],
   "source": [
    "calculated_index = df[df[relaxer_dic_2021_2_8_PES['calculator_label']].notnull()].index\n"
   ]
  },
  {
   "cell_type": "code",
   "execution_count": 22,
   "id": "7556c1a1-0309-4cb4-86bd-6752dc78e83e",
   "metadata": {
    "scrolled": true
   },
   "outputs": [
    {
     "name": "stdout",
     "output_type": "stream",
     "text": [
      "1.5728799997364826e-06\n",
      "0.008478383019435431\n",
      "\n",
      "3.4711914702793634e-06\n",
      "0.014992121608954932\n",
      "\n",
      "1.869416926911698e-05\n",
      "0.0055260174383238575\n",
      "\n",
      "6.591054889187993e-06\n",
      "0.0013269749304700654\n",
      "\n",
      "2.8925424054246692e-05\n",
      "0.041815786530901525\n",
      "\n",
      "1.5884375891685432e-05\n",
      "0.016760385825690095\n",
      "\n",
      "2.5211789102510017e-06\n",
      "0.002978565993329864\n",
      "\n",
      "2.0687255793244462e-05\n",
      "0.2675571670462636\n",
      "\n",
      "0.16736472938249838\n",
      "0.1556391981118748\n",
      "\n",
      "0.0033938860022789045\n",
      "0.005400236771320762\n",
      "\n",
      "0.08171670991394009\n",
      "0.08455231601816081\n",
      "\n",
      "0.001232368835267994\n",
      "0.006085425992822564\n",
      "\n",
      "0.10549966456578831\n",
      "0.10507149580550249\n",
      "\n",
      "0.02025507197885123\n",
      "0.022524359721694635\n",
      "\n",
      "0.0801752265765604\n",
      "0.08018755315184305\n",
      "\n",
      "0.27751017164710384\n",
      "0.2743531062992893\n",
      "\n",
      "0.15023570149026255\n",
      "0.14603844484541006\n",
      "\n",
      "0.04627730708397882\n",
      "0.04563094194938786\n",
      "\n",
      "0.28299233544182945\n",
      "0.2952608167347834\n",
      "\n",
      "0.148931955963863\n",
      "0.13934529862433764\n",
      "\n",
      "0.2906526056232204\n",
      "0.2871462242578758\n",
      "\n",
      "0.15756575302427603\n",
      "0.15675519381732916\n",
      "\n",
      "0.16465976636159527\n",
      "0.1634978212083279\n",
      "\n",
      "0.029787477574621146\n",
      "0.03230718055883979\n",
      "\n",
      "0.10329836263568822\n",
      "0.1057270103086793\n",
      "\n",
      "0.00025932305396360436\n",
      "0.008922162960708937\n",
      "\n",
      "0.2514622242992832\n",
      "0.2085374351292914\n",
      "\n",
      "0.25252844466705643\n",
      "0.28725187066429525\n",
      "\n",
      "0.01776413468372816\n",
      "0.018923502510422623\n",
      "\n",
      "0.04497485513919128\n",
      "0.04414597623301093\n",
      "\n",
      "0.13205570716317652\n",
      "0.1311713735674183\n",
      "\n",
      "0.008763667912073695\n",
      "0.01814651578649892\n",
      "\n",
      "0.01900734721741703\n",
      "0.020598221617854347\n",
      "\n",
      "0.0007947594536030549\n",
      "0.009368627889526533\n",
      "\n",
      "0.004563859403618498\n",
      "0.004997545028851973\n",
      "\n",
      "0.06070967957520177\n",
      "0.06120200386757096\n",
      "\n",
      "0.15856346288659992\n",
      "0.1515100799076364\n",
      "\n",
      "0.06104678864605491\n",
      "0.06241897861185007\n",
      "\n"
     ]
    }
   ],
   "source": [
    "for i, j, k  in zip(df.loc[calculated_index, 'init_structure'], \n",
    "                df.loc[calculated_index, 'relaxer_dic_2021_2_8_PES'].array, \n",
    "             df.loc[calculated_index, 'relaxer_dic_jitter_c_005_2021_2_8_PES'].array):\n",
    "    print(compute_distortion(i, j[0]))\n",
    "    print(compute_distortion(i, k[0]))\n",
    "    print()"
   ]
  },
  {
   "cell_type": "code",
   "execution_count": null,
   "id": "de2453b6-05c1-47ec-a909-6dbf4e7b8804",
   "metadata": {},
   "outputs": [],
   "source": []
  },
  {
   "cell_type": "code",
   "execution_count": null,
   "id": "6d1e8a29-485f-4623-b5ea-071fde91f6d8",
   "metadata": {},
   "outputs": [],
   "source": []
  }
 ],
 "metadata": {
  "kernelspec": {
   "display_name": "Python 3 (ipykernel)",
   "language": "python",
   "name": "python3"
  },
  "language_info": {
   "codemirror_mode": {
    "name": "ipython",
    "version": 3
   },
   "file_extension": ".py",
   "mimetype": "text/x-python",
   "name": "python",
   "nbconvert_exporter": "python",
   "pygments_lexer": "ipython3",
   "version": "3.9.19"
  }
 },
 "nbformat": 4,
 "nbformat_minor": 5
}
