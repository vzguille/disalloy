{
 "cells": [
  {
   "cell_type": "code",
   "execution_count": 1,
   "id": "53120579-57f2-4b3f-8e66-89c5524d7d16",
   "metadata": {},
   "outputs": [],
   "source": [
    "import pickle"
   ]
  },
  {
   "cell_type": "code",
   "execution_count": 2,
   "id": "c43382ad-09c2-4212-9d99-1e9513e6cc24",
   "metadata": {},
   "outputs": [],
   "source": [
    "import sys"
   ]
  },
  {
   "cell_type": "code",
   "execution_count": 3,
   "id": "3db5aaa9-ddb9-4c2f-bfcc-c60e2e27cbce",
   "metadata": {},
   "outputs": [],
   "source": [
    "import matgl"
   ]
  },
  {
   "cell_type": "code",
   "execution_count": 4,
   "id": "7303f693-cf4c-4a5c-b5ca-5d7e069e6ca5",
   "metadata": {},
   "outputs": [
    {
     "name": "stderr",
     "output_type": "stream",
     "text": [
      "/usr/local/lib/python3.9/site-packages/tqdm/auto.py:21: TqdmWarning: IProgress not found. Please update jupyter and ipywidgets. See https://ipywidgets.readthedocs.io/en/stable/user_install.html\n",
      "  from .autonotebook import tqdm as notebook_tqdm\n"
     ]
    }
   ],
   "source": [
    "from matgl.ext.ase import PESCalculator, MolecularDynamics, Relaxer"
   ]
  },
  {
   "cell_type": "code",
   "execution_count": 5,
   "id": "a8d69a64-fe09-4495-a31a-151bc1c4627a",
   "metadata": {},
   "outputs": [
    {
     "name": "stderr",
     "output_type": "stream",
     "text": [
      "/usr/local/lib/python3.9/site-packages/matgl/apps/pes.py:69: UserWarning: To copy construct from a tensor, it is recommended to use sourceTensor.clone().detach() or sourceTensor.clone().detach().requires_grad_(True), rather than torch.tensor(sourceTensor).\n",
      "  self.element_refs = AtomRef(property_offset=torch.tensor(element_refs, dtype=matgl.float_th))\n",
      "/usr/local/lib/python3.9/site-packages/matgl/apps/pes.py:75: UserWarning: To copy construct from a tensor, it is recommended to use sourceTensor.clone().detach() or sourceTensor.clone().detach().requires_grad_(True), rather than torch.tensor(sourceTensor).\n",
      "  self.register_buffer(\"data_mean\", torch.tensor(data_mean, dtype=matgl.float_th))\n",
      "/usr/local/lib/python3.9/site-packages/matgl/apps/pes.py:76: UserWarning: To copy construct from a tensor, it is recommended to use sourceTensor.clone().detach() or sourceTensor.clone().detach().requires_grad_(True), rather than torch.tensor(sourceTensor).\n",
      "  self.register_buffer(\"data_std\", torch.tensor(data_std, dtype=matgl.float_th))\n"
     ]
    }
   ],
   "source": [
    "pot = matgl.load_model(\"M3GNet-MP-2021.2.8-PES\")"
   ]
  },
  {
   "cell_type": "code",
   "execution_count": 6,
   "id": "270ef6b6-0462-4f29-bba8-498c88d561da",
   "metadata": {},
   "outputs": [],
   "source": [
    "relaxer = Relaxer(pot)"
   ]
  },
  {
   "cell_type": "code",
   "execution_count": 7,
   "id": "857635c6-110f-4514-8c51-37d2d4d00987",
   "metadata": {},
   "outputs": [],
   "source": [
    "with open('AlCoCrCuFeMnNiV_5_10.pkl', 'rb') as f:\n",
    "    structure_DB = pickle.load(f)\n",
    "    "
   ]
  },
  {
   "cell_type": "code",
   "execution_count": 8,
   "id": "8cb80686-acd6-4620-b738-bf343f13c5a1",
   "metadata": {},
   "outputs": [
    {
     "data": {
      "text/plain": [
       "32636176"
      ]
     },
     "execution_count": 8,
     "metadata": {},
     "output_type": "execute_result"
    }
   ],
   "source": [
    "sys.getsizeof(structure_DB)"
   ]
  },
  {
   "cell_type": "code",
   "execution_count": 9,
   "id": "02d3b36e-1a6b-4122-97e3-acafbe8438b4",
   "metadata": {},
   "outputs": [],
   "source": [
    "a = structure_DB.loc[0,'init_structure'].copy()"
   ]
  },
  {
   "cell_type": "code",
   "execution_count": 10,
   "id": "c58316a7-5b70-4411-a782-384f5c2e0578",
   "metadata": {},
   "outputs": [],
   "source": [
    "b = relaxer.relax(a)"
   ]
  },
  {
   "cell_type": "code",
   "execution_count": 11,
   "id": "fb468b64-a9b1-48b8-8c66-8e2305013691",
   "metadata": {},
   "outputs": [],
   "source": [
    "from pymatgen.io import ase as pg_ase\n",
    "\n",
    "ase_to_pmg = pg_ase.AseAtomsAdaptor.get_structure\n",
    "pmg_to_ase = pg_ase.AseAtomsAdaptor.get_atoms"
   ]
  },
  {
   "cell_type": "code",
   "execution_count": 12,
   "id": "973f3b90-07f3-4a5b-842f-b8ead0a9138c",
   "metadata": {},
   "outputs": [
    {
     "data": {
      "text/plain": [
       "MSONAtoms(symbols='Al', pbc=True, cell=[[2.0371313531185136, 2.037133279011304, -4.723380494606584e-07], [1.267526692030542e-06, 2.0371315391501987, 2.0371283519273007], [2.0371317340363584, -8.532583613103346e-07, 2.0371304727132413]], calculator=PESCalculator(...))"
      ]
     },
     "execution_count": 12,
     "metadata": {},
     "output_type": "execute_result"
    }
   ],
   "source": [
    "pmg_to_ase(b['final_structure'])"
   ]
  },
  {
   "cell_type": "code",
   "execution_count": 13,
   "id": "b0fc72cc-8d12-4779-b73e-a1c357bed890",
   "metadata": {},
   "outputs": [
    {
     "data": {
      "text/plain": [
       "-3.7008004188537598"
      ]
     },
     "execution_count": 13,
     "metadata": {},
     "output_type": "execute_result"
    }
   ],
   "source": [
    "b['trajectory'].energies[-1]"
   ]
  },
  {
   "cell_type": "code",
   "execution_count": 14,
   "id": "af2207c4-23f6-4ca4-9400-f6155a4daa41",
   "metadata": {},
   "outputs": [],
   "source": [
    "import random\n",
    "import numpy as np"
   ]
  },
  {
   "cell_type": "code",
   "execution_count": 15,
   "id": "4a0846f7-78c2-4690-bf35-3d504de46a73",
   "metadata": {},
   "outputs": [],
   "source": [
    "def run_relaxer(structure, rel):\n",
    "    b = rel.relax(structure.copy())\n",
    "    return b['trajectory'].atoms, b['trajectory'].energies[-1]"
   ]
  },
  {
   "cell_type": "code",
   "execution_count": 23,
   "id": "d2c7e561-7358-4316-9a0e-28cda0312a36",
   "metadata": {},
   "outputs": [],
   "source": [
    "def relax_row(row, calculator_label, relaxer):\n",
    "    return run_relaxer(row['init_structure'], relaxer)"
   ]
  },
  {
   "cell_type": "code",
   "execution_count": 29,
   "id": "81abcb85-b39a-4a83-bebe-b8727105e77a",
   "metadata": {},
   "outputs": [],
   "source": [
    "\n",
    "\n",
    "def run_packet(df_global, calculator_label, relaxer, size_of_packet, structure_size):\n",
    "    df = df_global#.copy()\n",
    "    \"\"\" \"\"\"\n",
    "    \n",
    "    if not calculator_label in df.columns:\n",
    "        df[calculator_label] = None\n",
    "        df[calculator_label] = df[calculator_label].astype(object)\n",
    "        uncalculated = df.index\n",
    "        \n",
    "    else:\n",
    "        uncalculated = df.attrs['uncalculated']\n",
    "    #uncalculated_size = df[(df['size'] == structure_size) & uncalculated].index.to_list()\n",
    "    uncalculated_size = list(\n",
    "        set(df[df['size'] == structure_size].index.to_list()) & \n",
    "        set(uncalculated)) \n",
    "    \n",
    "    rest_number = len(uncalculated_size)\n",
    "    if rest_number > size_of_packet:\n",
    "        to_calculate = random.sample(uncalculated_size, size_of_packet)\n",
    "    else:\n",
    "        to_calculate = uncalculated_size\n",
    "        \n",
    "    print(to_calculate)\n",
    "    df.loc[to_calculate, calculator_label] = df.loc[to_calculate].apply(\n",
    "        relax_row,args = (calculator_label, relaxer), axis=1)\n",
    "\n",
    "    df.attrs['uncalculated'] = list(set(uncalculated) - set(to_calculate))"
   ]
  },
  {
   "cell_type": "code",
   "execution_count": 30,
   "id": "0a843930-4ba9-4fe2-b1b6-c80f1b8e2118",
   "metadata": {},
   "outputs": [
    {
     "name": "stdout",
     "output_type": "stream",
     "text": [
      "[291, 108]\n"
     ]
    }
   ],
   "source": [
    "run_packet(structure_DB, 'm3g_test', relaxer, 2, 3)"
   ]
  },
  {
   "cell_type": "code",
   "execution_count": 31,
   "id": "63ca6215-ed33-4ba7-b8c6-bcd55e95da09",
   "metadata": {
    "scrolled": true
   },
   "outputs": [
    {
     "data": {
      "text/plain": [
       "509932"
      ]
     },
     "execution_count": 31,
     "metadata": {},
     "output_type": "execute_result"
    }
   ],
   "source": [
    "len(structure_DB.attrs['uncalculated'])"
   ]
  },
  {
   "cell_type": "code",
   "execution_count": null,
   "id": "60d0719d-0db0-4d53-b81d-dac3f7437c56",
   "metadata": {},
   "outputs": [],
   "source": []
  }
 ],
 "metadata": {
  "kernelspec": {
   "display_name": "Python 3 (ipykernel)",
   "language": "python",
   "name": "python3"
  },
  "language_info": {
   "codemirror_mode": {
    "name": "ipython",
    "version": 3
   },
   "file_extension": ".py",
   "mimetype": "text/x-python",
   "name": "python",
   "nbconvert_exporter": "python",
   "pygments_lexer": "ipython3",
   "version": "3.9.19"
  }
 },
 "nbformat": 4,
 "nbformat_minor": 5
}
