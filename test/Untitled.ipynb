{
 "cells": [
  {
   "cell_type": "code",
   "execution_count": 1,
   "id": "9a81eefd-40d2-497f-8d49-ed42ceb72b3c",
   "metadata": {},
   "outputs": [],
   "source": [
    "import os\n",
    "\n",
    "import pandas as pd\n",
    "import time\n",
    "import pickle"
   ]
  },
  {
   "cell_type": "code",
   "execution_count": 2,
   "id": "fcb6fe94-9db6-4ac1-9a49-44ff83c43358",
   "metadata": {},
   "outputs": [],
   "source": [
    "\n",
    "from ase.calculators.espresso import Espresso, EspressoProfile\n",
    "from ase.io.espresso import read_espresso_out"
   ]
  },
  {
   "cell_type": "code",
   "execution_count": 3,
   "id": "55145308-e85e-442e-bc4a-dba046a29ba3",
   "metadata": {},
   "outputs": [],
   "source": [
    "from disalloy.cellfunc import jitter_ia, jitter_ic, compute_distortion\n",
    "from disalloy.grid_run import run_packet"
   ]
  },
  {
   "cell_type": "code",
   "execution_count": 24,
   "id": "3c2b1d66-c7aa-4e5c-98f3-176a8a44aff4",
   "metadata": {},
   "outputs": [],
   "source": [
    "profile = EspressoProfile(\n",
    "    command='/qe/q-e/bin/pw.x', pseudo_dir='/qe/q-e/pseudo/SSSP/'\n",
    ")\n",
    "\n",
    "pseudopotentials = {\n",
    "    'Al':'Al.pbe-n-kjpaw_psl.1.0.0.UPF',\n",
    "    'Co':'Co_pbe_v1.2.uspp.F.UPF',\n",
    "    'Cr':'cr_pbe_v1.5.uspp.F.UPF',\n",
    "    'Cu':'Cu.paw.z_11.ld1.psl.v1.0.0-low.upf',\n",
    "    'Fe':'Fe.pbe-spn-kjpaw_psl.0.2.1.UPF',\n",
    "    'Mn':'mn_pbe_v1.5.uspp.F.UPF',\n",
    "    'Ni':'ni_pbe_v1.4.uspp.F.UPF',\n",
    "    'V':'v_pbe_v1.4.uspp.F.UPF',\n",
    "     }\n",
    "\n",
    "\n",
    "input_data = {\n",
    "    'system': {'ecutwfc': 60, 'ecutrho': 480},\n",
    "    'disk_io': 'low',  # Automatically put into the 'control' section\n",
    "    'tstress':True,  # deprecated, put in input_data\n",
    "    'tprnfor':True,  # deprecated, put in input_data\n",
    "    'calculation': 'vc-relax',#'scf',\n",
    "    'conv_thr':1e-8,\n",
    "    'occupations':'smearing',\n",
    "    'smearing':'mp',\n",
    "    'degauss':0.02,\n",
    "    'mixing_beta':0.7\n",
    "}\n",
    "\n",
    "calc_espresso_relax = Espresso(\n",
    "    profile=profile,\n",
    "    pseudopotentials=pseudopotentials,\n",
    "    input_data=input_data,\n",
    "    kspacing=0.5e-1,\n",
    ")\n",
    "\n",
    "def relaxer_espresso(row):\n",
    "    structure = row['init_structure'].copy()\n",
    "    structure.calc = calc_espresso_relax\n",
    "    e = structure.get_potential_energy()\n",
    "    atoms_clean = structure.copy()\n",
    "    atoms_clean.calculator = None\n",
    "    return atoms_clean, e\n",
    "def relaxer_espresso_jitter_ia(row, ia = 0.01):\n",
    "    structure = row['init_structure'].copy()\n",
    "    structure = jitter_ia(structure, ia)\n",
    "    structure.calc = calc_espresso_relax\n",
    "    e = structure.get_potential_energy()\n",
    "    atoms_clean = structure.copy()\n",
    "    atoms_clean.calculator = None\n",
    "    return atoms_clean, e\n",
    "def relaxer_espresso_jitter_ic(row, ic = 0.01):\n",
    "    structure = row['init_structure'].copy()\n",
    "    structure = jitter_ic(structure, ic)\n",
    "    structure.calc = calc_espresso_relax\n",
    "    e = structure.get_potential_energy()\n",
    "    atoms_clean = structure.copy()\n",
    "    atoms_clean.calculator = None\n",
    "    return atoms_clean, e"
   ]
  },
  {
   "cell_type": "code",
   "execution_count": 16,
   "id": "d6e388e1-3782-4908-9488-8d4ca1fdba30",
   "metadata": {},
   "outputs": [],
   "source": [
    "from disalloy.grid_run import run_packet"
   ]
  },
  {
   "cell_type": "code",
   "execution_count": null,
   "id": "cd78a068-0ed9-4adb-a844-6d2807cc87a1",
   "metadata": {},
   "outputs": [],
   "source": []
  },
  {
   "cell_type": "code",
   "execution_count": null,
   "id": "f4821d01-6a89-460b-82c5-05f5caa46357",
   "metadata": {},
   "outputs": [],
   "source": []
  },
  {
   "cell_type": "code",
   "execution_count": 6,
   "id": "086d2456-f41b-4e13-9b22-259af862d38e",
   "metadata": {},
   "outputs": [],
   "source": [
    "with open('AlCoCrCuFeMnNiV_5_10.pkl', 'rb') as f:\n",
    "    structure_DB = pickle.load(f)"
   ]
  },
  {
   "cell_type": "code",
   "execution_count": 17,
   "id": "8eae359d-43ae-4ddf-aac7-9073c46ec164",
   "metadata": {},
   "outputs": [],
   "source": [
    "df = structure_DB.copy()\n",
    "# if os.path.exists('df_calc.pkl'):\n",
    "#     df = pd.read_pickle('df_calc.pkl')"
   ]
  },
  {
   "cell_type": "code",
   "execution_count": 18,
   "id": "e0b7487e-0076-4b74-8549-549f46b4eae5",
   "metadata": {},
   "outputs": [],
   "source": [
    "relaxer_dic_espresso = {'calculator_label': 'relaxer_espresso',\n",
    "                            'relaxer': relaxer_espresso}"
   ]
  },
  {
   "cell_type": "code",
   "execution_count": 19,
   "id": "3335a038-dea7-42c4-a02f-4721443c624c",
   "metadata": {},
   "outputs": [
    {
     "name": "stdout",
     "output_type": "stream",
     "text": [
      "{'number_of_structures': {1: 8, 2: 56, 3: 336, 4: 4046, 5: 15904, 6: 17080, 7: 23968, 8: 128540, 9: 140000, 10: 180000}, 'is_exhaustive': {1: True, 2: True, 3: True, 4: True, 5: True, 6: False, 7: False, 8: False, 9: False, 10: False}}\n"
     ]
    }
   ],
   "source": [
    "print(df.attrs)"
   ]
  },
  {
   "cell_type": "code",
   "execution_count": 20,
   "id": "407e0509-c42b-4655-8d44-e47266fe2b8d",
   "metadata": {},
   "outputs": [
    {
     "name": "stdout",
     "output_type": "stream",
     "text": [
      "2024-09-04 02:15:25 - starting packet run: attempting 10 runs of size 1\n",
      "\n",
      "2024-09-04 02:19:10 - index of ran strctures:\n",
      " [0, 1, 2, 3, 4, 5, 6, 7]\n",
      "\n",
      "2024-09-04 02:19:10 - Succesfuly ran packet of 8 runs in 184.9036304950714s\n",
      "\n",
      "224.81355381011963s\n"
     ]
    }
   ],
   "source": [
    "ti = time.time()\n",
    "run_packet('df_espresso', df, relaxer_dic_espresso, 10, 1)\n",
    "print('{}s'.format(time.time() - ti))"
   ]
  },
  {
   "cell_type": "code",
   "execution_count": null,
   "id": "4831ce8f-cd80-4914-a346-6c510252b928",
   "metadata": {},
   "outputs": [
    {
     "name": "stdout",
     "output_type": "stream",
     "text": [
      "2024-09-04 02:19:29 - starting packet run: attempting 10 runs of size 2\n",
      "\n"
     ]
    }
   ],
   "source": [
    "ti = time.time()\n",
    "run_packet('df_espresso', df, relaxer_dic_espresso, 10, 2)\n",
    "print('{}s'.format(time.time() - ti))"
   ]
  },
  {
   "cell_type": "code",
   "execution_count": 23,
   "id": "48d264e2-e315-4d5b-b549-219c642ad4fe",
   "metadata": {},
   "outputs": [
    {
     "data": {
      "text/html": [
       "<div>\n",
       "<style scoped>\n",
       "    .dataframe tbody tr th:only-of-type {\n",
       "        vertical-align: middle;\n",
       "    }\n",
       "\n",
       "    .dataframe tbody tr th {\n",
       "        vertical-align: top;\n",
       "    }\n",
       "\n",
       "    .dataframe thead th {\n",
       "        text-align: right;\n",
       "    }\n",
       "</style>\n",
       "<table border=\"1\" class=\"dataframe\">\n",
       "  <thead>\n",
       "    <tr style=\"text-align: right;\">\n",
       "      <th></th>\n",
       "      <th>init_structure</th>\n",
       "      <th>size</th>\n",
       "      <th>relaxer_espresso</th>\n",
       "    </tr>\n",
       "  </thead>\n",
       "  <tbody>\n",
       "    <tr>\n",
       "      <th>0</th>\n",
       "      <td>(Atom('Al', [0.0, 0.0, 0.0], index=0))</td>\n",
       "      <td>1</td>\n",
       "      <td>((Atom('Al', [0.0, 0.0, 0.0], index=0)), -537....</td>\n",
       "    </tr>\n",
       "    <tr>\n",
       "      <th>1</th>\n",
       "      <td>(Atom('Co', [0.0, 0.0, 0.0], index=0))</td>\n",
       "      <td>1</td>\n",
       "      <td>((Atom('Co', [0.0, 0.0, 0.0], index=0)), -4060...</td>\n",
       "    </tr>\n",
       "    <tr>\n",
       "      <th>2</th>\n",
       "      <td>(Atom('Cr', [0.0, 0.0, 0.0], index=0))</td>\n",
       "      <td>1</td>\n",
       "      <td>((Atom('Cr', [0.0, 0.0, 0.0], index=0)), -2387...</td>\n",
       "    </tr>\n",
       "    <tr>\n",
       "      <th>3</th>\n",
       "      <td>(Atom('Cu', [0.0, 0.0, 0.0], index=0))</td>\n",
       "      <td>1</td>\n",
       "      <td>((Atom('Cu', [0.0, 0.0, 0.0], index=0)), -2899...</td>\n",
       "    </tr>\n",
       "    <tr>\n",
       "      <th>4</th>\n",
       "      <td>(Atom('Fe', [0.0, 0.0, 0.0], index=0))</td>\n",
       "      <td>1</td>\n",
       "      <td>((Atom('Fe', [0.0, 0.0, 0.0], index=0)), -4479...</td>\n",
       "    </tr>\n",
       "    <tr>\n",
       "      <th>5</th>\n",
       "      <td>(Atom('Mn', [0.0, 0.0, 0.0], index=0))</td>\n",
       "      <td>1</td>\n",
       "      <td>((Atom('Mn', [0.0, 0.0, 0.0], index=0)), -2873...</td>\n",
       "    </tr>\n",
       "    <tr>\n",
       "      <th>6</th>\n",
       "      <td>(Atom('Ni', [0.0, 0.0, 0.0], index=0))</td>\n",
       "      <td>1</td>\n",
       "      <td>((Atom('Ni', [0.0, 0.0, 0.0], index=0)), -4670...</td>\n",
       "    </tr>\n",
       "    <tr>\n",
       "      <th>7</th>\n",
       "      <td>(Atom('V', [0.0, 0.0, 0.0], index=0))</td>\n",
       "      <td>1</td>\n",
       "      <td>((Atom('V', [0.0, 0.0, 0.0], index=0)), -1973....</td>\n",
       "    </tr>\n",
       "    <tr>\n",
       "      <th>9</th>\n",
       "      <td>(Atom('Al', [0.0, 0.0, 0.0], index=0), Atom('C...</td>\n",
       "      <td>2</td>\n",
       "      <td>((Atom('Al', [0.0, 0.0, 0.0], index=0), Atom('...</td>\n",
       "    </tr>\n",
       "    <tr>\n",
       "      <th>12</th>\n",
       "      <td>(Atom('Al', [0.0, 0.0, 0.0], index=0), Atom('M...</td>\n",
       "      <td>2</td>\n",
       "      <td>((Atom('Al', [0.0, 0.0, 0.0], index=0), Atom('...</td>\n",
       "    </tr>\n",
       "    <tr>\n",
       "      <th>17</th>\n",
       "      <td>(Atom('Co', [0.0, 0.0, 0.0], index=0), Atom('F...</td>\n",
       "      <td>2</td>\n",
       "      <td>((Atom('Co', [0.0, 0.0, 0.0], index=0), Atom('...</td>\n",
       "    </tr>\n",
       "    <tr>\n",
       "      <th>21</th>\n",
       "      <td>(Atom('Cr', [0.0, 0.0, 0.0], index=0), Atom('C...</td>\n",
       "      <td>2</td>\n",
       "      <td>((Atom('Cr', [0.0, 0.0, 0.0], index=0), Atom('...</td>\n",
       "    </tr>\n",
       "    <tr>\n",
       "      <th>40</th>\n",
       "      <td>(Atom('Al', [0.0, 0.0, 0.0], index=0), Atom('M...</td>\n",
       "      <td>2</td>\n",
       "      <td>((Atom('Al', [0.0, 0.0, 0.0], index=0), Atom('...</td>\n",
       "    </tr>\n",
       "    <tr>\n",
       "      <th>42</th>\n",
       "      <td>(Atom('Al', [0.0, 0.0, 0.0], index=0), Atom('V...</td>\n",
       "      <td>2</td>\n",
       "      <td>((Atom('Al', [0.0, 0.0, 0.0], index=0), Atom('...</td>\n",
       "    </tr>\n",
       "    <tr>\n",
       "      <th>45</th>\n",
       "      <td>(Atom('Co', [0.0, 0.0, 0.0], index=0), Atom('F...</td>\n",
       "      <td>2</td>\n",
       "      <td>((Atom('Co', [0.0, 0.0, 0.0], index=0), Atom('...</td>\n",
       "    </tr>\n",
       "    <tr>\n",
       "      <th>48</th>\n",
       "      <td>(Atom('Co', [0.0, 0.0, 0.0], index=0), Atom('V...</td>\n",
       "      <td>2</td>\n",
       "      <td>((Atom('Co', [0.0, 0.0, 0.0], index=0), Atom('...</td>\n",
       "    </tr>\n",
       "    <tr>\n",
       "      <th>58</th>\n",
       "      <td>(Atom('Fe', [0.0, 0.0, 0.0], index=0), Atom('M...</td>\n",
       "      <td>2</td>\n",
       "      <td>((Atom('Fe', [0.0, 0.0, 0.0], index=0), Atom('...</td>\n",
       "    </tr>\n",
       "    <tr>\n",
       "      <th>60</th>\n",
       "      <td>(Atom('Fe', [0.0, 0.0, 0.0], index=0), Atom('V...</td>\n",
       "      <td>2</td>\n",
       "      <td>((Atom('Fe', [0.0, 0.0, 0.0], index=0), Atom('...</td>\n",
       "    </tr>\n",
       "  </tbody>\n",
       "</table>\n",
       "</div>"
      ],
      "text/plain": [
       "                                       init_structure  size  \\\n",
       "0              (Atom('Al', [0.0, 0.0, 0.0], index=0))     1   \n",
       "1              (Atom('Co', [0.0, 0.0, 0.0], index=0))     1   \n",
       "2              (Atom('Cr', [0.0, 0.0, 0.0], index=0))     1   \n",
       "3              (Atom('Cu', [0.0, 0.0, 0.0], index=0))     1   \n",
       "4              (Atom('Fe', [0.0, 0.0, 0.0], index=0))     1   \n",
       "5              (Atom('Mn', [0.0, 0.0, 0.0], index=0))     1   \n",
       "6              (Atom('Ni', [0.0, 0.0, 0.0], index=0))     1   \n",
       "7               (Atom('V', [0.0, 0.0, 0.0], index=0))     1   \n",
       "9   (Atom('Al', [0.0, 0.0, 0.0], index=0), Atom('C...     2   \n",
       "12  (Atom('Al', [0.0, 0.0, 0.0], index=0), Atom('M...     2   \n",
       "17  (Atom('Co', [0.0, 0.0, 0.0], index=0), Atom('F...     2   \n",
       "21  (Atom('Cr', [0.0, 0.0, 0.0], index=0), Atom('C...     2   \n",
       "40  (Atom('Al', [0.0, 0.0, 0.0], index=0), Atom('M...     2   \n",
       "42  (Atom('Al', [0.0, 0.0, 0.0], index=0), Atom('V...     2   \n",
       "45  (Atom('Co', [0.0, 0.0, 0.0], index=0), Atom('F...     2   \n",
       "48  (Atom('Co', [0.0, 0.0, 0.0], index=0), Atom('V...     2   \n",
       "58  (Atom('Fe', [0.0, 0.0, 0.0], index=0), Atom('M...     2   \n",
       "60  (Atom('Fe', [0.0, 0.0, 0.0], index=0), Atom('V...     2   \n",
       "\n",
       "                                     relaxer_espresso  \n",
       "0   ((Atom('Al', [0.0, 0.0, 0.0], index=0)), -537....  \n",
       "1   ((Atom('Co', [0.0, 0.0, 0.0], index=0)), -4060...  \n",
       "2   ((Atom('Cr', [0.0, 0.0, 0.0], index=0)), -2387...  \n",
       "3   ((Atom('Cu', [0.0, 0.0, 0.0], index=0)), -2899...  \n",
       "4   ((Atom('Fe', [0.0, 0.0, 0.0], index=0)), -4479...  \n",
       "5   ((Atom('Mn', [0.0, 0.0, 0.0], index=0)), -2873...  \n",
       "6   ((Atom('Ni', [0.0, 0.0, 0.0], index=0)), -4670...  \n",
       "7   ((Atom('V', [0.0, 0.0, 0.0], index=0)), -1973....  \n",
       "9   ((Atom('Al', [0.0, 0.0, 0.0], index=0), Atom('...  \n",
       "12  ((Atom('Al', [0.0, 0.0, 0.0], index=0), Atom('...  \n",
       "17  ((Atom('Co', [0.0, 0.0, 0.0], index=0), Atom('...  \n",
       "21  ((Atom('Cr', [0.0, 0.0, 0.0], index=0), Atom('...  \n",
       "40  ((Atom('Al', [0.0, 0.0, 0.0], index=0), Atom('...  \n",
       "42  ((Atom('Al', [0.0, 0.0, 0.0], index=0), Atom('...  \n",
       "45  ((Atom('Co', [0.0, 0.0, 0.0], index=0), Atom('...  \n",
       "48  ((Atom('Co', [0.0, 0.0, 0.0], index=0), Atom('...  \n",
       "58  ((Atom('Fe', [0.0, 0.0, 0.0], index=0), Atom('...  \n",
       "60  ((Atom('Fe', [0.0, 0.0, 0.0], index=0), Atom('...  "
      ]
     },
     "execution_count": 23,
     "metadata": {},
     "output_type": "execute_result"
    }
   ],
   "source": [
    "df[df[relaxer_dic_espresso['calculator_label']].notnull()]"
   ]
  },
  {
   "cell_type": "code",
   "execution_count": 25,
   "id": "5baf8b20-acac-4d68-a9c3-a2313790fb58",
   "metadata": {},
   "outputs": [],
   "source": [
    "relaxer_dic_espresso_jitter_ic = {\n",
    "    'calculator_label': 'relaxer_espresso_jitter_ic',\n",
    "    'relaxer': relaxer_espresso_jitter_ic}"
   ]
  },
  {
   "cell_type": "code",
   "execution_count": null,
   "id": "81af791c-85cd-4c1b-b04a-0317f87b728b",
   "metadata": {},
   "outputs": [
    {
     "name": "stdout",
     "output_type": "stream",
     "text": [
      "2024-09-04 02:52:13 - starting packet run: attempting 10 runs of size 1\n",
      "\n"
     ]
    }
   ],
   "source": [
    "ti = time.time()\n",
    "run_packet('df_espresso', df, relaxer_dic_espresso_jitter_ic, 10, 1,\n",
    "          copy_calculated=relaxer_dic_espresso['calculator_label'])\n",
    "print('{}s'.format(time.time() - ti))"
   ]
  },
  {
   "cell_type": "code",
   "execution_count": null,
   "id": "5c24901b-a6ca-461a-b787-c69bd683bbcb",
   "metadata": {},
   "outputs": [],
   "source": [
    "ti = time.time()\n",
    "run_packet('df_espresso', df, relaxer_dic_espresso_jitter_ic, 10, 2,\n",
    "          copy_calculated=relaxer_dic_espresso['calculator_label'])\n",
    "print('{}s'.format(time.time() - ti))"
   ]
  },
  {
   "cell_type": "code",
   "execution_count": null,
   "id": "732ebca0-b48a-4851-8f46-dedf472dcc9e",
   "metadata": {},
   "outputs": [],
   "source": [
    "calculated_index = df[df[relaxer_dic_espresso['calculator_label']].notnull()].index"
   ]
  },
  {
   "cell_type": "code",
   "execution_count": null,
   "id": "d8bb6aea-a918-42f3-a9da-a37ded3e6bfd",
   "metadata": {},
   "outputs": [],
   "source": [
    "for i, j, k  in zip(df.loc[calculated_index, 'init_structure'], \n",
    "                df.loc[calculated_index, 'relaxer_espresso'].array, \n",
    "             df.loc[calculated_index, 'relaxer_espresso_jitter_ic'].array):\n",
    "    print(compute_distortion(i, j[0]))\n",
    "    print(compute_distortion(i, k[0]))\n",
    "    print()"
   ]
  }
 ],
 "metadata": {
  "kernelspec": {
   "display_name": "Python 3 (ipykernel)",
   "language": "python",
   "name": "python3"
  },
  "language_info": {
   "codemirror_mode": {
    "name": "ipython",
    "version": 3
   },
   "file_extension": ".py",
   "mimetype": "text/x-python",
   "name": "python",
   "nbconvert_exporter": "python",
   "pygments_lexer": "ipython3",
   "version": "3.9.19"
  }
 },
 "nbformat": 4,
 "nbformat_minor": 5
}
