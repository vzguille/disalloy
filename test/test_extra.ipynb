{
 "cells": [
  {
   "cell_type": "code",
   "execution_count": 1,
   "id": "2f10694c-a494-48a4-8b42-045feaf25f06",
   "metadata": {},
   "outputs": [],
   "source": [
    "import numpy as np"
   ]
  },
  {
   "cell_type": "code",
   "execution_count": 2,
   "id": "5961906d-4d6d-4f41-b026-462ea1e3604a",
   "metadata": {},
   "outputs": [],
   "source": [
    "from ase.build import bulk\n",
    "from ase.calculators.espresso import Espresso, EspressoProfile\n",
    "from ase.optimize import LBFGS\n",
    "\n",
    "from disalloy.cellfunc import jitter_ic, jitter_ia, compute_distortion"
   ]
  },
  {
   "cell_type": "code",
   "execution_count": 3,
   "id": "9ffa89d3-6d75-4cc4-a579-7152aba49fe8",
   "metadata": {},
   "outputs": [],
   "source": [
    "from ase.io.espresso import read_espresso_out"
   ]
  },
  {
   "cell_type": "code",
   "execution_count": 4,
   "id": "d5d8b06e-7227-4b86-8e0a-9e81e65b62e9",
   "metadata": {},
   "outputs": [],
   "source": [
    "\n",
    "# Optionally create profile to override paths in ASE configuration:\n",
    "profile = EspressoProfile(\n",
    "    command='/qe/q-e/bin/pw.x', pseudo_dir='/qe/q-e/pseudo/SSSP/'\n",
    ")\n",
    "\n",
    "# Pseudopotentials from SSSP Efficiency v1.3.0\n",
    "pseudopotentials = {'Na': 'na_pbe_v1.5.uspp.F.UPF', 'Cl': 'cl_pbe_v1.4.uspp.F.UPF'}\n",
    "\n",
    "input_data = {\n",
    "    'system': {'ecutwfc': 60, 'ecutrho': 480},\n",
    "    'disk_io': 'low',  # Automatically put into the 'control' section\n",
    "    'tstress':True,  # deprecated, put in input_data\n",
    "    'tprnfor':True,  # deprecated, put in input_data\n",
    "    'calculation': 'vc-relax',#'scf',\n",
    "    'conv_thr':1e-8,\n",
    "    'occupations':'smearing',\n",
    "    'smearing':'mp',\n",
    "    'degauss':0.02,\n",
    "    'mixing_beta':0.7\n",
    "}\n",
    "\n",
    "calc = Espresso(\n",
    "    profile=profile,\n",
    "    pseudopotentials=pseudopotentials,\n",
    "    input_data=input_data,\n",
    "    kspacing=0.5e-1,\n",
    ")\n"
   ]
  },
  {
   "cell_type": "code",
   "execution_count": 5,
   "id": "9a5b3ace-ad4d-4f89-82b7-2e0cf016aa81",
   "metadata": {},
   "outputs": [
    {
     "name": "stdout",
     "output_type": "stream",
     "text": [
      "Atoms(symbols='NaCl', pbc=True, cell=[[0.0, 1.5, 1.5], [1.5, 0.0, 1.5], [1.5, 1.5, 0.0]])\n",
      "Atoms(symbols='NaCl', pbc=True, cell=[[0.0024845394287546594, 1.5055814258575095, 1.5017482144067107], [1.5046623175410332, 0.009159886555968918, 1.5065152844599097], [1.5004673986035537, 1.4944905293990984, 0.00043162900763017557]])\n"
     ]
    }
   ],
   "source": [
    "\n",
    "rocksalt = bulk('NaCl', crystalstructure='rocksalt', a=3.0)\n",
    "print(rocksalt)\n",
    "rocksalt = jitter_ic(rocksalt, 0.005, seed =42)\n",
    "print(rocksalt)\n",
    "\n",
    "original = rocksalt.copy()\n",
    "# rocksalt = jitter_ia(rocksalt, 0.01, seed =42)\n",
    "# print(rocksalt)\n"
   ]
  },
  {
   "cell_type": "code",
   "execution_count": 6,
   "id": "5ed3c00a-9ef8-4072-966f-26bae18372a9",
   "metadata": {},
   "outputs": [
    {
     "data": {
      "text/plain": [
       "array([[2.48453943e-03, 1.50558143e+00, 1.50174821e+00],\n",
       "       [1.50466232e+00, 9.15988656e-03, 1.50651528e+00],\n",
       "       [1.50046740e+00, 1.49449053e+00, 4.31629008e-04]])"
      ]
     },
     "execution_count": 6,
     "metadata": {},
     "output_type": "execute_result"
    }
   ],
   "source": [
    "original.cell.array"
   ]
  },
  {
   "cell_type": "code",
   "execution_count": 7,
   "id": "2b628c4d-a453-4c2c-9451-e3a08ccd3549",
   "metadata": {},
   "outputs": [
    {
     "data": {
      "text/plain": [
       "array([[2.48453943e-03, 1.50558143e+00, 1.50174821e+00],\n",
       "       [1.50466232e+00, 9.15988656e-03, 1.50651528e+00],\n",
       "       [1.50046740e+00, 1.49449053e+00, 4.31629008e-04]])"
      ]
     },
     "execution_count": 7,
     "metadata": {},
     "output_type": "execute_result"
    }
   ],
   "source": [
    "rocksalt.cell.array"
   ]
  },
  {
   "cell_type": "code",
   "execution_count": 8,
   "id": "c8335227-dcce-4bdc-8651-3f0836c76681",
   "metadata": {},
   "outputs": [],
   "source": [
    "bohr = 0.529177211 # A"
   ]
  },
  {
   "cell_type": "code",
   "execution_count": 9,
   "id": "024fb23d-8bd5-4278-8d76-27708f122c70",
   "metadata": {},
   "outputs": [
    {
     "data": {
      "text/plain": [
       "-1752.1577976160108"
      ]
     },
     "execution_count": 9,
     "metadata": {},
     "output_type": "execute_result"
    }
   ],
   "source": [
    "rocksalt.calc = calc\n",
    "\n",
    "rocksalt.get_potential_energy()  # This will run a single point calculation"
   ]
  },
  {
   "cell_type": "code",
   "execution_count": 10,
   "id": "63e952bb-5f84-4ab2-b27a-5285aa754f63",
   "metadata": {},
   "outputs": [
    {
     "data": {
      "text/plain": [
       "array([[2.48453943e-03, 1.50558143e+00, 1.50174821e+00],\n",
       "       [1.50466232e+00, 9.15988656e-03, 1.50651528e+00],\n",
       "       [1.50046740e+00, 1.49449053e+00, 4.31629008e-04]])"
      ]
     },
     "execution_count": 10,
     "metadata": {},
     "output_type": "execute_result"
    }
   ],
   "source": [
    "original.cell.array"
   ]
  },
  {
   "cell_type": "code",
   "execution_count": 11,
   "id": "ec049f6c-8f10-4d4d-a425-49dfff2a1c60",
   "metadata": {},
   "outputs": [
    {
     "data": {
      "text/plain": [
       "array([[2.48453943e-03, 1.50558143e+00, 1.50174821e+00],\n",
       "       [1.50466232e+00, 9.15988656e-03, 1.50651528e+00],\n",
       "       [1.50046740e+00, 1.49449053e+00, 4.31629008e-04]])"
      ]
     },
     "execution_count": 11,
     "metadata": {},
     "output_type": "execute_result"
    }
   ],
   "source": [
    "rocksalt.cell.array"
   ]
  },
  {
   "cell_type": "code",
   "execution_count": 12,
   "id": "82e12e39-788d-4c93-a31b-a617703747b0",
   "metadata": {},
   "outputs": [
    {
     "data": {
      "text/plain": [
       "2.4709307555527296e-16"
      ]
     },
     "execution_count": 12,
     "metadata": {},
     "output_type": "execute_result"
    }
   ],
   "source": [
    "compute_distortion(original, rocksalt)"
   ]
  },
  {
   "cell_type": "code",
   "execution_count": 13,
   "id": "88d7161c-4e30-4269-9b31-3bfbec5cc706",
   "metadata": {},
   "outputs": [
    {
     "data": {
      "text/plain": [
       "array([ 1.12503355,  1.12648202,  1.12040591, 59.74403861, 59.95975318,\n",
       "       59.76578559])"
      ]
     },
     "execution_count": 13,
     "metadata": {},
     "output_type": "execute_result"
    }
   ],
   "source": [
    "original.cell.cellpar()"
   ]
  },
  {
   "cell_type": "code",
   "execution_count": 14,
   "id": "57842bc8-4f2d-4feb-87ea-e9e8e20b5106",
   "metadata": {},
   "outputs": [
    {
     "data": {
      "text/plain": [
       "array([ 1.12503355,  1.12648202,  1.12040591, 59.74403861, 59.95975318,\n",
       "       59.76578559])"
      ]
     },
     "execution_count": 14,
     "metadata": {},
     "output_type": "execute_result"
    }
   ],
   "source": [
    "rocksalt.cell.cellpar()"
   ]
  },
  {
   "cell_type": "code",
   "execution_count": 26,
   "id": "d457342c-e1fb-45d1-b25b-5abf8683223c",
   "metadata": {},
   "outputs": [
    {
     "name": "stdout",
     "output_type": "stream",
     "text": [
      "[[2.48375965e-03 1.50558152e+00 1.50174743e+00]\n",
      " [1.50466287e+00 9.15886371e-03 1.50651506e+00]\n",
      " [1.50046727e+00 1.49448966e+00 4.31680830e-04]]\n",
      "9.89377308334673e-07\n",
      "-1682.9705830757152\n",
      "\n",
      "[[0.0039505  2.06448483 2.04913642]\n",
      " [2.05586592 0.01351675 2.05523901]\n",
      " [2.04881727 2.04756406 0.00286353]]\n",
      "0.003745112336218197\n",
      "-1745.390096920622\n",
      "\n",
      "[[ 3.18218100e-03  2.13975900e+00  2.14699062e+00]\n",
      " [ 2.14739439e+00  1.22291710e-02  2.15423409e+00]\n",
      " [ 2.14251605e+00  2.12552583e+00 -1.28493800e-03]]\n",
      "0.0043711302237953035\n",
      "-1748.0693179390735\n",
      "\n",
      "[[ 0.00286959  2.24846656  2.19254178]\n",
      " [ 2.21329814  0.01186342  2.20056113]\n",
      " [ 2.20935308  2.23513279 -0.00345522]]\n",
      "0.016501920934352866\n",
      "-1749.5451023085493\n",
      "\n",
      "[[ 0.00297799  2.27105573  2.35407908]\n",
      " [ 2.33000374  0.01248737  2.36199553]\n",
      " [ 2.32589314  2.25718043 -0.00300793]]\n",
      "0.027688060943406506\n",
      "-1750.599248325882\n",
      "\n",
      "[[ 3.83210800e-03  2.42833932e+00  2.36618022e+00]\n",
      " [ 2.38385074e+00  1.41629990e-02  2.37425268e+00]\n",
      " [ 2.37802033e+00  2.41172344e+00 -8.29293000e-04]]\n",
      "0.01737069734929793\n",
      "-1750.8311981619518\n",
      "\n",
      "[[ 3.90648100e-03  2.39284418e+00  2.37437411e+00]\n",
      " [ 2.38487626e+00  1.43555370e-02  2.38213658e+00]\n",
      " [ 2.37866940e+00  2.37578729e+00 -4.70330000e-05]]\n",
      "0.0036664721385831467\n",
      "-1750.8479056795316\n",
      "\n",
      "[[3.95926200e-03 2.39084565e+00 2.37778154e+00]\n",
      " [2.38287743e+00 1.44357380e-02 2.38551919e+00]\n",
      " [2.37655228e+00 2.37364321e+00 1.69607000e-04]]\n",
      "0.0023264662839416303\n",
      "-1750.8480047289688\n",
      "\n",
      "[[3.97087600e-03 2.39048308e+00 2.37696331e+00]\n",
      " [2.38426839e+00 1.44438460e-02 2.38469743e+00]\n",
      " [2.37791982e+00 2.37326299e+00 1.98861000e-04]]\n",
      "0.002228360451174313\n",
      "-1750.848023368767\n",
      "\n",
      "[[3.96863000e-03 2.39073789e+00 2.37695317e+00]\n",
      " [2.38403748e+00 1.44407170e-02 2.38469001e+00]\n",
      " [2.37769460e+00 2.37352375e+00 1.89276000e-04]]\n",
      "0.002330267260551084\n",
      "-1750.848024457222\n",
      "\n",
      "[[3.96863000e-03 2.39073789e+00 2.37695317e+00]\n",
      " [2.38403748e+00 1.44407170e-02 2.38469001e+00]\n",
      " [2.37769460e+00 2.37352375e+00 1.89276000e-04]]\n",
      "0.002330267260551084\n",
      "-1752.1577976160108\n",
      "\n"
     ]
    }
   ],
   "source": [
    "# bohr = 0.529177211 # A\n",
    "with open('espresso.pwo', 'r') as f:\n",
    "    for i in read_espresso_out(f,):\n",
    "        struc_ite = i.copy()\n",
    "        print(struc_ite.cell.array)\n",
    "        print(compute_distortion(original, struc_ite))\n",
    "        # print(i.get_forces())\n",
    "        # print(i.get_stress())\n",
    "        print(i.get_potential_energy())\n",
    "        print()\n"
   ]
  },
  {
   "cell_type": "code",
   "execution_count": 34,
   "id": "0fe3fc78-0a52-4e54-a19c-9acc8ee6cbc2",
   "metadata": {},
   "outputs": [
    {
     "data": {
      "text/plain": [
       "Atoms(symbols='NaCl', pbc=True, cell=[[0.00396863, 2.390737891, 2.376953172], [2.384037483, 0.014440717, 2.384690014], [2.3776946, 2.37352375, 0.000189276]])"
      ]
     },
     "execution_count": 34,
     "metadata": {},
     "output_type": "execute_result"
    }
   ],
   "source": [
    "i.copy()"
   ]
  },
  {
   "cell_type": "code",
   "execution_count": 31,
   "id": "034d5b22-c4f3-4865-8ee7-fbc2ce0fe8fd",
   "metadata": {},
   "outputs": [
    {
     "data": {
      "text/plain": [
       "-1752.1577976160108"
      ]
     },
     "execution_count": 31,
     "metadata": {},
     "output_type": "execute_result"
    }
   ],
   "source": [
    "i.get_potential_energy()"
   ]
  },
  {
   "cell_type": "code",
   "execution_count": null,
   "id": "cdbf1a2a-26f9-4441-885a-e1ceee3a0b02",
   "metadata": {},
   "outputs": [],
   "source": []
  }
 ],
 "metadata": {
  "kernelspec": {
   "display_name": "Python 3 (ipykernel)",
   "language": "python",
   "name": "python3"
  },
  "language_info": {
   "codemirror_mode": {
    "name": "ipython",
    "version": 3
   },
   "file_extension": ".py",
   "mimetype": "text/x-python",
   "name": "python",
   "nbconvert_exporter": "python",
   "pygments_lexer": "ipython3",
   "version": "3.9.19"
  }
 },
 "nbformat": 4,
 "nbformat_minor": 5
}
