{
 "cells": [
  {
   "cell_type": "code",
   "execution_count": null,
   "id": "93260852-de8f-40b0-8e6c-aab9d9be4d5f",
   "metadata": {},
   "outputs": [],
   "source": [
    "a = structure_DB.loc[0, 'init_structure']\n",
    "a_copy = a.copy()\n",
    "print(a_copy.cell.array,'\\n',a_copy.cell.cellpar(),'\\n',a_copy.positions)\n",
    "print('jitter_ia')\n",
    "jitter_ia(a_copy)\n",
    "compute_distortion(a, a_copy, quiet = False)\n",
    "print(a_copy.cell.array,'\\n',a_copy.cell.cellpar(),'\\n',a_copy.positions)\n",
    "a_copy = a.copy()\n",
    "print('jitter_ic')\n",
    "jitter_ic(a_copy)\n",
    "compute_distortion(a, a_copy, quiet = False)\n",
    "print(a_copy.cell.array,'\\n',a_copy.cell.cellpar(),'\\n',a_copy.positions)"
   ]
  },
  {
   "cell_type": "code",
   "execution_count": null,
   "id": "7669c446-e64a-44f6-b090-3d54d10de3e0",
   "metadata": {},
   "outputs": [],
   "source": [
    "for i in range(8):\n",
    "    \n",
    "    a = structure_DB.loc[i,'init_structure'].copy()\n",
    "    master_copy = a.copy()\n",
    "    print(master_copy.get_chemical_symbols())\n",
    "    print(master_copy.cell.cellpar(),'\\n',a_copy.positions)\n",
    "\n",
    "    a_copy = a.copy()\n",
    "    print('direct')\n",
    "    relaxer_direct_2021_2_8_PES(a_copy)\n",
    "    print(a_copy.cell.cellpar(),'\\n',a_copy.positions)\n",
    "    compute_distortion(master_copy, a_copy, quiet = False)\n",
    "    \n",
    "    print('jitter_ia')\n",
    "    a_copy = a.copy()\n",
    "    relaxer_jitter_a_01_2021_2_8_PES(a_copy)\n",
    "    print(a_copy.cell.cellpar(),'\\n',a_copy.positions)\n",
    "    compute_distortion(master_copy, a_copy, quiet = False)\n",
    "    \n",
    "    print('jitter_ic')\n",
    "    a_copy = a.copy()\n",
    "    relaxer_jitter_c_005_2021_2_8_PES(a_copy)\n",
    "    print(a_copy.cell.cellpar(),'\\n',a_copy.positions)\n",
    "    compute_distortion(master_copy, a_copy, quiet = False)\n",
    "    break"
   ]
  },
  {
   "cell_type": "code",
   "execution_count": null,
   "id": "5961906d-4d6d-4f41-b026-462ea1e3604a",
   "metadata": {},
   "outputs": [],
   "source": [
    "from ase.build import bulk\n",
    "from ase.calculators.espresso import Espresso, EspressoProfile\n",
    "from ase.optimize import LBFGS\n"
   ]
  },
  {
   "cell_type": "code",
   "execution_count": null,
   "id": "9a5b3ace-ad4d-4f89-82b7-2e0cf016aa81",
   "metadata": {},
   "outputs": [],
   "source": [
    "\n",
    "rocksalt = bulk('NaCl', crystalstructure='rocksalt', a=6.0)\n",
    "\n",
    "# Pseudopotentials from SSSP Efficiency v1.3.0\n",
    "pseudopotentials = {'Na': 'na_pbe_v1.5.uspp.F.UPF', 'Cl': 'cl_pbe_v1.4.uspp.F.UPF'}\n",
    "\n",
    "# Optionally create profile to override paths in ASE configuration:\n",
    "profile = EspressoProfile(\n",
    "    command='/path/to/pw.x', pseudo_dir='/path/to/pseudopotentials'\n",
    ")\n",
    "\n",
    "calc = Espresso(profile=profile, pseudopotentials=pseudopotentials)\n",
    "\n",
    "rocksalt.calc = calc\n",
    "\n",
    "rocksalt.get_potential_energy()  # This will run a single point calculation\n",
    "\n",
    "opt = LBFGS(rocksalt)\n",
    "\n",
    "opt.run(fmax=0.005)  # This will run a geometry optimization using ASE's LBFGS algorithm\n",
    "\n",
    "# Print lattice constant...\n",
    "print((8 * rocksalt.get_volume() / len(rocksalt)) ** (1.0 / 3.0))"
   ]
  }
 ],
 "metadata": {
  "kernelspec": {
   "display_name": "Python 3 (ipykernel)",
   "language": "python",
   "name": "python3"
  },
  "language_info": {
   "codemirror_mode": {
    "name": "ipython",
    "version": 3
   },
   "file_extension": ".py",
   "mimetype": "text/x-python",
   "name": "python",
   "nbconvert_exporter": "python",
   "pygments_lexer": "ipython3",
   "version": "3.9.19"
  }
 },
 "nbformat": 4,
 "nbformat_minor": 5
}
